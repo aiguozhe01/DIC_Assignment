{
  "nbformat": 4,
  "nbformat_minor": 0,
  "metadata": {
    "kernelspec": {
      "display_name": "Python 3",
      "language": "python",
      "name": "python3"
    },
    "language_info": {
      "codemirror_mode": {
        "name": "ipython",
        "version": 3
      },
      "file_extension": ".py",
      "mimetype": "text/x-python",
      "name": "python",
      "nbconvert_exporter": "python",
      "pygments_lexer": "ipython3",
      "version": "3.7.7"
    },
    "colab": {
      "name": "Sprint_04.ipynb",
      "provenance": [],
      "collapsed_sections": [],
      "include_colab_link": true
    }
  },
  "cells": [
    {
      "cell_type": "markdown",
      "metadata": {
        "id": "view-in-github",
        "colab_type": "text"
      },
      "source": [
        "<a href=\"https://colab.research.google.com/github/aiguozhe01/DIC_Assignment/blob/master/Sprint_04.ipynb\" target=\"_parent\"><img src=\"https://colab.research.google.com/assets/colab-badge.svg\" alt=\"Open In Colab\"/></a>"
      ]
    },
    {
      "cell_type": "markdown",
      "metadata": {
        "id": "0MaI8gUQj2ER"
      },
      "source": [
        "\n",
        "# Sprint 機械学習スクラッチ ロジスティック回帰"
      ]
    },
    {
      "cell_type": "code",
      "metadata": {
        "id": "YH5voNzIj2ES"
      },
      "source": [
        "from sklearn.datasets import load_iris\n",
        "import numpy as np\n",
        "import pandas as pd"
      ],
      "execution_count": 3,
      "outputs": []
    },
    {
      "cell_type": "code",
      "metadata": {
        "id": "ZGBYOdJ9j2EU"
      },
      "source": [
        " # 雛形\n",
        "\n",
        "class ScratchLogisticRegression():\n",
        "    \"\"\"\n",
        "    ロジスティック回帰のスクラッチ実装\n",
        "\n",
        "    Parameters\n",
        "    ----------\n",
        "    num_iter : int\n",
        "      イテレーション数\n",
        "    lr : float\n",
        "      学習率\n",
        "    bias : bool\n",
        "      バイアス項を入れない場合はTrue\n",
        "    verbose : bool\n",
        "      学習過程を出力する場合はTrue\n",
        "\n",
        "    Attributes\n",
        "    ----------\n",
        "    self.coef_ : 次の形のndarray, shape (n_features,)\n",
        "      パラメータ\n",
        "    self.loss : 次の形のndarray, shape (self.num_iter,)\n",
        "      訓練データに対する損失の記録\n",
        "    self.val_loss : 次の形のndarray, shape (self.num_iter,)\n",
        "      検証データに対する損失の記録\n",
        "\n",
        "    \"\"\"\n",
        "    def __init__(self, num_iter=100, lr=0.1, C=1.0, bias=True,\n",
        "                 verbose=False, coef=None, labels=None):\n",
        "        # ハイパーパラメータを属性として記録\n",
        "        self.num_iter = num_iter\n",
        "        self.lr = lr\n",
        "        self.C = C\n",
        "        self.bias = bias\n",
        "        self.verbose = verbose\n",
        "        # 損失を記録する配列を用意\n",
        "        self.loss = np.zeros(self.num_iter)\n",
        "        self.val_loss = np.zeros(self.num_iter)\n",
        "        self.coef_ = coef\n",
        "        self.labels_ = labels\n",
        "        \n",
        "        \n",
        "    def _logistic_hypothesis(self, X):\n",
        "        \"\"\"\n",
        "        ロジスティック回帰の仮定関数を計算する\n",
        "\n",
        "        Parameters\n",
        "        ----------\n",
        "        X : 次の形のndarray, shape (n_samples, n_features)\n",
        "            訓練データ\n",
        "\n",
        "        Returns\n",
        "        -------\n",
        "            次の形のndarray, shape (n_samples, 1)\n",
        "            シグモイドの仮定関数による推定結果\n",
        "        \"\"\"\n",
        "\n",
        "        return 1/(1 + np.exp(-1 * np.dot(X, self.coef_.T)))\n",
        "    \n",
        "    \n",
        "    def _gradient_descent(self, X, y, h_array):\n",
        "        \"\"\"\n",
        "        最急降下法によりパラメータの更新を行う\n",
        "\n",
        "        Parameters\n",
        "        ----------\n",
        "        X : 次の形のndarray, shape (n_samples, n_features)\n",
        "            訓練データ\n",
        "        y : 次の形のndarray, shape (n_samples, )\n",
        "            訓練データの正解値\n",
        "        h_array : 次の形のndarray, shape (n_samples,)\n",
        "            推定した値    \n",
        "\n",
        "        Returns\n",
        "        -------\n",
        "        self.coef_ : 次の形のndarray, shape (n_features, 1)\n",
        "            最急降下法により更新されたパラメータ\n",
        "        \"\"\"\n",
        "\n",
        "        if self.bias:\n",
        "            self.coef_[0] -= (self.lr/len(X)) * np.dot((h_array - y), X[:, 0])\n",
        "            self.coef_[1:] -= (self.lr/len(X)) * np.dot((h_array - y), X[:, 1:]) + (1/self.C)/len(X) * self.coef_[1:]\n",
        "        else:\n",
        "            self.coef_ -= (self.lr/len(X)) * np.dot((h_array - y), X) + (1/self.C)/len(X) * self.coef_\n",
        "\n",
        "        return self.coef_\n",
        "    \n",
        "    \n",
        "    def fit(self, X, y, X_val=None, y_val=None):\n",
        "        \"\"\"\n",
        "        ロジスティック回帰を学習する。検証データが入力された場合はそれに対する損失と精度もイテレーションごとに計算する。\n",
        "\n",
        "        Parameters\n",
        "        ----------\n",
        "        X : 次の形のndarray, shape (n_samples, n_features)\n",
        "            訓練データの特徴量\n",
        "        y : 次の形のndarray, shape (n_samples, )\n",
        "            訓練データの正解値\n",
        "        X_val : 次の形のndarray, shape (n_samples, n_features)\n",
        "            検証データの特徴量\n",
        "        y_val : 次の形のndarray, shape (n_samples, )\n",
        "            検証データの正解値\n",
        "        \"\"\"\n",
        "        \n",
        "        # 目的変数のラベルを取得し、バイナリに変換した配列を作成\n",
        "        # 以後、計算はy_indicesを用いて行う\n",
        "        self.labels_, y_indices = np.unique(y, return_inverse=True)\n",
        "        \n",
        "        # bias有りの場合はX_0 = 1をXにinsertし、パラメータを作成\n",
        "        if self.bias:\n",
        "            X = np.insert(X, 0, 1, axis=1)\n",
        "            self.coef_ = np.random.normal(size=len(X[0]))\n",
        "        # bias無しの場合はX_0を追加せずパラメータを作成\n",
        "        else:\n",
        "            self.coef_ = np.random.normal(size=len(X[0]))\n",
        "\n",
        "        # 検証データに対する学習の有無はX_valとy_valが提示された場合のみに指定\n",
        "        # hasattr関数を使用し、X_val, y_valが__array__attributeを所持するかで判断\n",
        "        if hasattr(X_val, '__array__') and hasattr(y_val, '__array__'):\n",
        "            \n",
        "            _, yval_indices = np.unique(y_val, return_inverse=True)\n",
        "            \n",
        "            for i in range(self.num_iter):\n",
        "                \n",
        "                h_array = self._logistic_hypothesis(X)\n",
        "                pred = self.predict_proba(X_val)\n",
        "                \n",
        "                self.coef_ = self._gradient_descent(X, y_indices, h_array)\n",
        "\n",
        "                self.loss[i] = self._cost_function(h_array, y_indices)\n",
        "                self.val_loss[i] = self._cost_function(pred[:,1], yval_indices)\n",
        "        \n",
        "        else:\n",
        "            for i in range(self.num_iter):\n",
        "\n",
        "                h_array = self._logistic_hypothesis(X)\n",
        "                \n",
        "                self.coef_ = self._gradient_descent(X, y_indices, h_array)\n",
        "\n",
        "                self.loss[i] = self._cost_function(h_array, y_indices)\n",
        "\n",
        "        if self.verbose:\n",
        "            #verboseをTrueにした際は学習過程を出力\n",
        "            print(self.loss)\n",
        "\n",
        "            \n",
        "    def _cost_function(self, pred, y):\n",
        "        \"\"\"\n",
        "        目的関数の計算\n",
        "\n",
        "        Parameters\n",
        "        ----------\n",
        "        pred : 次の形のndarray, shape (n_samples,)\n",
        "          推定した値\n",
        "        y : 次の形のndarray, shape (n_samples,)\n",
        "          正解値\n",
        "\n",
        "        Returns\n",
        "        ----------\n",
        "          numpy.float\n",
        "          交差エントロピー\n",
        "        \"\"\"\n",
        "\n",
        "        cross_ent = 1/len(y) * np.sum((-y*np.log(pred)) - (1-y)*np.log(1-pred))\n",
        "        reg = (1/self.C)/(2*len(y)) * np.sum(self.coef_[1:]**2)\n",
        "\n",
        "        return cross_ent + reg\n",
        "\n",
        "    \n",
        "    def predict(self, X):\n",
        "        \"\"\"\n",
        "        ロジスティック回帰を使いラベルを推定する。\n",
        "\n",
        "        Parameters\n",
        "        ----------\n",
        "        X : 次の形のndarray, shape (n_samples, n_features)\n",
        "            サンプル\n",
        "\n",
        "        Returns\n",
        "        -------\n",
        "            次の形のndarray, shape (n_samples, 1)\n",
        "            ロジスティック回帰による推定結果\n",
        "        \"\"\"\n",
        "\n",
        "        # bias有りの場合はX_0 = 1をinsert\n",
        "        if self.bias:\n",
        "            X = np.insert(X, 0, 1, axis=1)\n",
        "        # bias無しの場合はX_0を追加せずpass\n",
        "        else:\n",
        "            pass\n",
        "    \n",
        "        prob_1 = np.expand_dims(1 / (1 + np.exp(-1 * np.dot(X, self.coef_.T))), axis=1)\n",
        "        prob_0 = 1 - prob_1\n",
        "\n",
        "        prob_array = np.concatenate((prob_0, prob_1), axis=1)\n",
        "\n",
        "        return self.labels_[np.argmax(prob_array, axis=1)]\n",
        "\n",
        "\n",
        "    def predict_proba(self, X):\n",
        "        \"\"\"\n",
        "        ロジスティック回帰を使い確率を推定する。\n",
        "\n",
        "        Parameters\n",
        "        ----------\n",
        "        X : 次の形のndarray, shape (n_samples, n_features)\n",
        "            サンプル\n",
        "\n",
        "        Returns\n",
        "        -------\n",
        "            次の形のndarray, shape (n_samples, 2)\n",
        "            ロジスティック回帰による推定結果\n",
        "        \"\"\"\n",
        "\n",
        "        # bias有りの場合はX_0 = 1をinsert\n",
        "        if self.bias:\n",
        "            X = np.insert(X, 0, 1, axis=1)\n",
        "        # bias無しの場合はX_0を追加せずpass\n",
        "        else:\n",
        "            pass\n",
        "        \n",
        "        prob_1 = np.expand_dims(1 / (1 + np.exp(-1 * np.dot(X, self.coef_.T))), axis=1)\n",
        "        prob_0 = 1 - prob_1\n",
        "\n",
        "        prob_array = np.concatenate((prob_0, prob_1), axis=1)\n",
        "\n",
        "        return prob_array"
      ],
      "execution_count": 8,
      "outputs": []
    },
    {
      "cell_type": "markdown",
      "metadata": {
        "id": "9WhUFTz8j2EW"
      },
      "source": [
        "## 【問題1】仮定関数\n",
        "\n",
        "ロジスティック回帰の仮定関数のメソッドをScratchLogisticRegressionクラスに実装してください。"
      ]
    },
    {
      "cell_type": "markdown",
      "metadata": {
        "id": "WtjGf7mfj2EW"
      },
      "source": [
        "## 【考察】\n",
        "\n",
        "* ロジスティック回帰の仮定関数は、線形回帰の仮定関数を シグモイド関数 に通したもの。\n",
        "* シグモイド関数\n",
        "    * 線形結合の出力を確立に変換\n",
        "    * S字型の曲線\n",
        "    * n(x)は0～1の値\n",
        "    * n(x)=0.5布巾では直線的に変化し、n(x)が0または1に近いときは、その傾きが緩やかになる。\n",
        "    \n",
        "    \n",
        "    \n",
        "## 【順序】\n",
        "1. numpyを用い、sigmoid関数の作成\n",
        "2. Irisデータセットを用いて、回帰描写\n",
        "3. LogisticRegressionを用いる。"
      ]
    },
    {
      "cell_type": "code",
      "metadata": {
        "id": "EFaruLk1j2EX"
      },
      "source": [
        "# Irisデータの準備\n",
        "iris = load_iris()\n",
        "\n",
        "# 基データから特定の2種の特徴量を抽出。\n",
        "iris_raw_data = pd.DataFrame(iris.data, columns=iris.feature_names)\n",
        "X = iris_raw_data[['petal length (cm)', 'petal width (cm)']]\n",
        "\n",
        "# 基データから特定の2品種のみを抽出。\n",
        "iris_raw_species = pd.DataFrame(iris.target, columns=[\"species\"])\n",
        "y = iris_raw_species[iris_raw_species['species'].isin([1, 2])]"
      ],
      "execution_count": null,
      "outputs": []
    },
    {
      "cell_type": "code",
      "metadata": {
        "id": "_ibjkRp6j2EZ",
        "outputId": "196e27c4-4ee1-420b-a8e4-95f515e1f9f1"
      },
      "source": [
        "# x = 特徴量ベクトル \n",
        "# theta = parameter vector\n",
        "\n",
        "# シグモイド関数\n",
        "def sigmoid(z):\n",
        "    return 1 / (1 + np.exp(z))\n",
        "\n",
        "X = np.concatenate([np.ones((X.shape[0], 1)), X], 1)\n",
        "\n",
        "# thetaに説明変数の行列数と同数のランダム行列を作成。\n",
        "theta = np.random.normal(0, 0.5, X.shape[0])\n",
        "\n",
        "# zに線形結合を代入して、確率を返す。\n",
        "z = np.dot(theta, X)\n",
        "\n",
        "sigmoid(z)"
      ],
      "execution_count": null,
      "outputs": [
        {
          "output_type": "execute_result",
          "data": {
            "text/plain": [
              "array([0.74433558, 0.99981036, 0.99726957])"
            ]
          },
          "metadata": {
            "tags": []
          },
          "execution_count": 50
        }
      ]
    },
    {
      "cell_type": "markdown",
      "metadata": {
        "id": "PSsCkHPWj2Eb"
      },
      "source": [
        "## 【問題2】最急降下法\n",
        "\n",
        "最急降下法により学習させる実装を行なってください。以下の式で表されるパラメータの更新式のメソッド_gradient_descentを追加し、fit\n",
        "メソッドから呼び出すようにする。"
      ]
    },
    {
      "cell_type": "code",
      "metadata": {
        "id": "Vs4icd4Ej2Eb"
      },
      "source": [
        "def _gradient_descent(self, X, y, h_array):\n",
        "    \"\"\"\n",
        "    最急降下法によりパラメータの更新を行う\n",
        "\n",
        "    Parameters\n",
        "    ----------\n",
        "    X : 次の形のndarray, shape (n_samples, n_features)\n",
        "        訓練データ\n",
        "    y : 次の形のndarray, shape (n_samples, )\n",
        "        訓練データの正解値\n",
        "    h_array : 次の形のndarray, shape (n_samples,)\n",
        "        推定した値    \n",
        "\n",
        "    Returns\n",
        "    -------\n",
        "    self.coef_ : 次の形のndarray, shape (n_features, 1)\n",
        "        最急降下法により更新されたパラメータ\n",
        "    \"\"\"\n",
        "\n",
        "    if self.bias:\n",
        "        self.coef_[0] -= (self.lr/len(X)) * np.dot((h_array - y), X[:, 0])\n",
        "        self.coef_[1:] -= (self.lr/len(X)) * np.dot((h_array - y), X[:, 1:]) + (1/self.C)/len(X) * self.coef_[1:]\n",
        "    else:\n",
        "        self.coef_ -= (self.lr/len(X)) * np.dot((h_array - y), X) + (1/self.C)/len(X) * self.coef_\n",
        "\n",
        "    return self.coef_"
      ],
      "execution_count": 12,
      "outputs": []
    },
    {
      "cell_type": "markdown",
      "metadata": {
        "id": "z49H_oiHkRqy"
      },
      "source": [
        "## 【問題3】推定"
      ]
    },
    {
      "cell_type": "code",
      "metadata": {
        "id": "3z28E4J4j2Ed"
      },
      "source": [
        "def predict(self, X):\n",
        "    \"\"\"\n",
        "    ロジスティック回帰を使いラベルを推定する。\n",
        "\n",
        "    Parameters\n",
        "    ----------\n",
        "    X : 次の形のndarray, shape (n_samples, n_features)\n",
        "        サンプル\n",
        "\n",
        "    Returns\n",
        "    -------\n",
        "        次の形のndarray, shape (n_samples, 1)\n",
        "        ロジスティック回帰による推定結果\n",
        "    \"\"\"\n",
        "\n",
        "    # bias有りの場合はX_0 = 1をinsert\n",
        "    if self.bias:\n",
        "        X = np.insert(X, 0, 1, axis=1)\n",
        "    # bias無しの場合はX_0を追加せずpass\n",
        "    else:\n",
        "        pass\n",
        "\n",
        "    prob_1 = np.expand_dims(1 / (1 + np.exp(-1 * np.dot(X, self.coef_.T))), axis=1)\n",
        "    prob_0 = 1 - prob_1\n",
        "\n",
        "    prob_array = np.concatenate((prob_0, prob_1), axis=1)\n",
        "\n",
        "    # より高い確率のインデックスを抽出し、該当するラベルをlabels_から引き出す\n",
        "    return self.labels_[np.argmax(prob_array, axis=1)]\n",
        "\n",
        "\n",
        "def predict_proba(self, X):\n",
        "    \"\"\"\n",
        "    ロジスティック回帰を使い確率を推定する。\n",
        "\n",
        "    Parameters\n",
        "    ----------\n",
        "    X : 次の形のndarray, shape (n_samples, n_features)\n",
        "        サンプル\n",
        "\n",
        "    Returns\n",
        "    -------\n",
        "        次の形のndarray, shape (n_samples, 2)\n",
        "        ロジスティック回帰による推定結果\n",
        "    \"\"\"\n",
        "\n",
        "    # bias有りの場合はX_0 = 1をinsert\n",
        "    if self.bias:\n",
        "        X = np.insert(X, 0, 1, axis=1)\n",
        "    # bias無しの場合はX_0を追加せずpass\n",
        "    else:\n",
        "        pass\n",
        "\n",
        "    prob_1 = np.expand_dims(1 / (1 + np.exp(-1 * np.dot(X, self.coef_.T))), axis=1)\n",
        "    prob_0 = 1 - prob_1\n",
        "\n",
        "    prob_array = np.concatenate((prob_0, prob_1), axis=1)\n",
        "\n",
        "    return prob_array"
      ],
      "execution_count": 11,
      "outputs": []
    },
    {
      "cell_type": "markdown",
      "metadata": {
        "id": "s3FftcAEkYUE"
      },
      "source": [
        "## 【問題4】目的関数"
      ]
    },
    {
      "cell_type": "code",
      "metadata": {
        "id": "J1LHzqqLj2Ef"
      },
      "source": [
        "def _cost_function(self, pred, y):\n",
        "    \"\"\"\n",
        "    目的関数の計算\n",
        "\n",
        "    Parameters\n",
        "    ----------\n",
        "    pred : 次の形のndarray, shape (n_samples,)\n",
        "      推定した値\n",
        "    y : 次の形のndarray, shape (n_samples,)\n",
        "      正解値\n",
        "\n",
        "    Returns\n",
        "    ----------\n",
        "      numpy.float\n",
        "      交差エントロピー\n",
        "    \"\"\"\n",
        "\n",
        "    cross_ent = 1/len(y) * np.sum((-y*np.log(pred)) - (1-y)*np.log(1-pred))\n",
        "    reg = (1/self.C)/(2*len(y)) * np.sum(self.coef_[1:]**2)\n",
        "\n",
        "    return cross_ent + reg"
      ],
      "execution_count": 13,
      "outputs": []
    },
    {
      "cell_type": "markdown",
      "metadata": {
        "id": "hjjuQhxGkea1"
      },
      "source": [
        "##【問題5】学習と推定"
      ]
    },
    {
      "cell_type": "code",
      "metadata": {
        "id": "C3KCdpkvkieH",
        "outputId": "e31a245c-c774-4275-ecee-1fdb60cdc9b5",
        "colab": {
          "base_uri": "https://localhost:8080/",
          "height": 204
        }
      },
      "source": [
        "import pandas as pd\n",
        "from sklearn.datasets import load_iris\n",
        "\n",
        "iris = load_iris()\n",
        "\n",
        "data = pd.DataFrame(data=iris.data, columns=['sepal_length', 'sepal_width', 'petal_length', 'petal_width'])\n",
        "target = pd.DataFrame(data=iris.target, columns=['Species'])\n",
        "\n",
        "df = pd.concat([data, target], axis=1)\n",
        "df = df.loc[df['Species'] !=0, :]\n",
        "\n",
        "X = np.array(df.iloc[:, :-1])\n",
        "y = np.array(df.iloc[:, -1])\n",
        "\n",
        "df.head()"
      ],
      "execution_count": 4,
      "outputs": [
        {
          "output_type": "execute_result",
          "data": {
            "text/html": [
              "<div>\n",
              "<style scoped>\n",
              "    .dataframe tbody tr th:only-of-type {\n",
              "        vertical-align: middle;\n",
              "    }\n",
              "\n",
              "    .dataframe tbody tr th {\n",
              "        vertical-align: top;\n",
              "    }\n",
              "\n",
              "    .dataframe thead th {\n",
              "        text-align: right;\n",
              "    }\n",
              "</style>\n",
              "<table border=\"1\" class=\"dataframe\">\n",
              "  <thead>\n",
              "    <tr style=\"text-align: right;\">\n",
              "      <th></th>\n",
              "      <th>sepal_length</th>\n",
              "      <th>sepal_width</th>\n",
              "      <th>petal_length</th>\n",
              "      <th>petal_width</th>\n",
              "      <th>Species</th>\n",
              "    </tr>\n",
              "  </thead>\n",
              "  <tbody>\n",
              "    <tr>\n",
              "      <th>50</th>\n",
              "      <td>7.0</td>\n",
              "      <td>3.2</td>\n",
              "      <td>4.7</td>\n",
              "      <td>1.4</td>\n",
              "      <td>1</td>\n",
              "    </tr>\n",
              "    <tr>\n",
              "      <th>51</th>\n",
              "      <td>6.4</td>\n",
              "      <td>3.2</td>\n",
              "      <td>4.5</td>\n",
              "      <td>1.5</td>\n",
              "      <td>1</td>\n",
              "    </tr>\n",
              "    <tr>\n",
              "      <th>52</th>\n",
              "      <td>6.9</td>\n",
              "      <td>3.1</td>\n",
              "      <td>4.9</td>\n",
              "      <td>1.5</td>\n",
              "      <td>1</td>\n",
              "    </tr>\n",
              "    <tr>\n",
              "      <th>53</th>\n",
              "      <td>5.5</td>\n",
              "      <td>2.3</td>\n",
              "      <td>4.0</td>\n",
              "      <td>1.3</td>\n",
              "      <td>1</td>\n",
              "    </tr>\n",
              "    <tr>\n",
              "      <th>54</th>\n",
              "      <td>6.5</td>\n",
              "      <td>2.8</td>\n",
              "      <td>4.6</td>\n",
              "      <td>1.5</td>\n",
              "      <td>1</td>\n",
              "    </tr>\n",
              "  </tbody>\n",
              "</table>\n",
              "</div>"
            ],
            "text/plain": [
              "    sepal_length  sepal_width  petal_length  petal_width  Species\n",
              "50           7.0          3.2           4.7          1.4        1\n",
              "51           6.4          3.2           4.5          1.5        1\n",
              "52           6.9          3.1           4.9          1.5        1\n",
              "53           5.5          2.3           4.0          1.3        1\n",
              "54           6.5          2.8           4.6          1.5        1"
            ]
          },
          "metadata": {
            "tags": []
          },
          "execution_count": 4
        }
      ]
    },
    {
      "cell_type": "code",
      "metadata": {
        "id": "__7XsYPLkuSy",
        "outputId": "3b0119b9-5984-44f6-8f1a-b4834733292f",
        "colab": {
          "base_uri": "https://localhost:8080/",
          "height": 51
        }
      },
      "source": [
        "# データの分割（今回は7：3の割合）\n",
        "from sklearn.model_selection import train_test_split\n",
        "\n",
        "X_train, X_test, y_train, y_test = train_test_split(X, y, test_size=0.3, stratify=y)\n",
        "\n",
        "print(X_train.shape)\n",
        "print(y_train.shape)"
      ],
      "execution_count": 14,
      "outputs": [
        {
          "output_type": "stream",
          "text": [
            "(70, 4)\n",
            "(70,)\n"
          ],
          "name": "stdout"
        }
      ]
    },
    {
      "cell_type": "code",
      "metadata": {
        "id": "s8JoJcMGkvx6"
      },
      "source": [
        "# 標準化処理\n",
        "from sklearn.preprocessing import StandardScaler\n",
        "\n",
        "scaler = StandardScaler()\n",
        "\n",
        "X_train_std = scaler.fit_transform(X_train)\n",
        "X_test_std = scaler.transform(X_test)"
      ],
      "execution_count": 15,
      "outputs": []
    },
    {
      "cell_type": "code",
      "metadata": {
        "id": "nCNRTeJdkyHa"
      },
      "source": [
        "# 評価指標の読み込みおよび関数化\n",
        "from sklearn.metrics import accuracy_score\n",
        "from sklearn.metrics import precision_score\n",
        "from sklearn.metrics import recall_score\n",
        "from sklearn.metrics import f1_score\n",
        "\n",
        "def get_scores(y_true, y_pred):\n",
        "    print(\"-\"*20)\n",
        "    print(\"正解率：{:.2f}\".format(accuracy_score(y_true, y_pred)))\n",
        "    print(\"適合率：{:.2f}\".format(precision_score(y_true, y_pred)))\n",
        "    print(\"再現率：{:.2f}\".format(recall_score(y_true, y_pred)))\n",
        "    print(\"F1値：{:.2f}\".format(f1_score(y_true, y_pred)))\n",
        "    print(\"-\"*20)\n",
        "    print(\"\\n\")"
      ],
      "execution_count": 16,
      "outputs": []
    },
    {
      "cell_type": "code",
      "metadata": {
        "id": "JjpxE9Jhk1xA",
        "outputId": "79b0a097-d102-41f5-c6a7-f4d362742a55",
        "colab": {
          "base_uri": "https://localhost:8080/",
          "height": 170
        }
      },
      "source": [
        "# スクラッチモデルの学習と推定\n",
        "scratch_logreg = ScratchLogisticRegression(num_iter=1000)\n",
        "\n",
        "scratch_logreg.fit(X_train_std, y_train, X_val=X_test_std, y_val=y_test)\n",
        "\n",
        "scratch_pred = scratch_logreg.predict(X_test_std)\n",
        "\n",
        "print(\"スクラッチモデルの成績\")\n",
        "get_scores(y_test, scratch_pred)"
      ],
      "execution_count": 17,
      "outputs": [
        {
          "output_type": "stream",
          "text": [
            "スクラッチモデルの成績\n",
            "--------------------\n",
            "正解率：0.83\n",
            "適合率：0.92\n",
            "再現率：0.73\n",
            "F1値：0.81\n",
            "--------------------\n",
            "\n",
            "\n"
          ],
          "name": "stdout"
        }
      ]
    },
    {
      "cell_type": "code",
      "metadata": {
        "id": "XSHXXJkRlH09",
        "outputId": "bb1114bf-2516-46b7-bf44-419acb16c313",
        "colab": {
          "base_uri": "https://localhost:8080/",
          "height": 170
        }
      },
      "source": [
        "# sklearnモデルの学習と推定\n",
        "from sklearn.linear_model import LogisticRegression\n",
        "\n",
        "sk_logreg = LogisticRegression()\n",
        "\n",
        "sk_logreg.fit(X_train_std, y_train)\n",
        "\n",
        "sk_pred = sk_logreg.predict(X_test_std)\n",
        "\n",
        "print(\"sklearnモデルの成績\")\n",
        "get_scores(y_test, sk_pred)"
      ],
      "execution_count": 18,
      "outputs": [
        {
          "output_type": "stream",
          "text": [
            "sklearnモデルの成績\n",
            "--------------------\n",
            "正解率：0.87\n",
            "適合率：0.92\n",
            "再現率：0.80\n",
            "F1値：0.86\n",
            "--------------------\n",
            "\n",
            "\n"
          ],
          "name": "stdout"
        }
      ]
    },
    {
      "cell_type": "markdown",
      "metadata": {
        "id": "khFAl0CIlKsA"
      },
      "source": [
        "## 【問題6】学習曲線のプロット"
      ]
    },
    {
      "cell_type": "code",
      "metadata": {
        "id": "85Ag6IJ7lMql",
        "outputId": "e7dda9ba-cf71-42d7-ff15-bf111b3ffcf5",
        "colab": {
          "base_uri": "https://localhost:8080/",
          "height": 295
        }
      },
      "source": [
        "import matplotlib.pyplot as plt\n",
        "\n",
        "%matplotlib inline\n",
        "\n",
        "plt.figure()\n",
        "\n",
        "plt.plot(np.arange(len(scratch_logreg.loss)), scratch_logreg.loss, label='train loss')\n",
        "plt.plot(np.arange(len(scratch_logreg.loss)), scratch_logreg.val_loss, label='val loss')\n",
        "plt.title(\"Scratch Model Loss\")\n",
        "plt.xlabel(\"Iteration\")\n",
        "plt.ylabel(\"Loss\")\n",
        "plt.legend()\n",
        "\n",
        "plt.show()"
      ],
      "execution_count": 19,
      "outputs": [
        {
          "output_type": "display_data",
          "data": {
            "image/png": "[encoded data removed]",
            "text/plain": [
              "<Figure size 432x288 with 1 Axes>"
            ]
          },
          "metadata": {
            "tags": [],
            "needs_background": "light"
          }
        }
      ]
    },
    {
      "cell_type": "markdown",
      "metadata": {
        "id": "54eUlG8alQLw"
      },
      "source": [
        "## 【問題7】決定領域の可視化"
      ]
    },
    {
      "cell_type": "code",
      "metadata": {
        "id": "8ctRZgHZlSkN"
      },
      "source": [
        "from matplotlib.colors import ListedColormap\n",
        "import matplotlib.patches as mpatches\n",
        "def decision_region(X, y, model, step=0.01, title='decision region', xlabel='xlabel',\n",
        "                    ylabel='ylabel', target_names=['versicolor', 'virginica']):\n",
        "    \"\"\"\n",
        "    2値分類を2次元の特徴量で学習したモデルの決定領域を描く。\n",
        "    背景の色が学習したモデルによる推定値から描画される。\n",
        "    散布図の点は訓練データまたは検証データである。\n",
        "\n",
        "    Parameters\n",
        "    ----------------\n",
        "    X : ndarray, shape(n_samples, 2)\n",
        "        特徴量\n",
        "    y : ndarray, shape(n_samples,)\n",
        "        ラベル\n",
        "    model : object\n",
        "        学習したモデルのインスンタスを入れる\n",
        "    step : float, (default : 0.1)\n",
        "        推定値を計算する間隔を設定する\n",
        "    title : str\n",
        "        グラフのタイトルの文章を与える\n",
        "    xlabel, ylabel : str\n",
        "        軸ラベルの文章を与える\n",
        "    target_names= : list of str\n",
        "        凡例の一覧を与える\n",
        "    \"\"\"\n",
        "    # setting\n",
        "    scatter_color = ['red', 'blue']\n",
        "    contourf_color = ['pink', 'skyblue']\n",
        "    n_class = 2\n",
        "    # pred\n",
        "    mesh_f0, mesh_f1  = np.meshgrid(np.arange(np.min(X[:,0])-0.5, np.max(X[:,0])+0.5, step), np.arange(np.min(X[:,1])-0.5, np.max(X[:,1])+0.5, step))\n",
        "    mesh = np.c_[np.ravel(mesh_f0),np.ravel(mesh_f1)]\n",
        "    y_pred = model.predict(mesh).reshape(mesh_f0.shape)\n",
        "    # plot\n",
        "    plt.title(title)\n",
        "    plt.xlabel(xlabel)\n",
        "    plt.ylabel(ylabel)\n",
        "    plt.contourf(mesh_f0, mesh_f1, y_pred, n_class-1, cmap=ListedColormap(contourf_color))\n",
        "    plt.contour(mesh_f0, mesh_f1, y_pred, n_class-1, colors='y', linewidths=3, alpha=0.5)\n",
        "    for i, target in enumerate(set(y)):\n",
        "        plt.scatter(X[y==target][:, 0], X[y==target][:, 1], s=80, color=scatter_color[i], label=target_names[i], marker='o')\n",
        "    patches = [mpatches.Patch(color=scatter_color[i], label=target_names[i]) for i in range(n_class)]\n",
        "    plt.legend(handles=patches)\n",
        "    plt.legend()\n",
        "    plt.show()"
      ],
      "execution_count": 20,
      "outputs": []
    },
    {
      "cell_type": "code",
      "metadata": {
        "id": "Pm4_Wj2IlZ5L",
        "outputId": "4f333f42-a2e2-4be6-b548-f65386c2ce74",
        "colab": {
          "base_uri": "https://localhost:8080/",
          "height": 575
        }
      },
      "source": [
        "# sepal_lengthとsepal_widthを可視化\n",
        "X_plot = X_train_std[:, :2]\n",
        "\n",
        "scratch_plot = ScratchLogisticRegression()\n",
        "scratch_plot.fit(X_plot, y_train)\n",
        "\n",
        "sk_plot = LogisticRegression()\n",
        "sk_plot.fit(X_plot, y_train)\n",
        "\n",
        "decision_region(X_plot, y_train, scratch_plot, step=0.01, title='Decision Region of Scratch Model',\n",
        "                xlabel='sepal_length', ylabel='sepal_width')\n",
        "decision_region(X_plot, y_train, sk_plot, step=0.01, title='Decision Region of sklearn Model',\n",
        "                xlabel='sepal_length', ylabel='sepal_width')"
      ],
      "execution_count": 21,
      "outputs": [
        {
          "output_type": "display_data",
          "data": {
            "image/png": "[encoded data removed]",
            "text/plain": [
              "<Figure size 432x288 with 1 Axes>"
            ]
          },
          "metadata": {
            "tags": [],
            "needs_background": "light"
          }
        },
        {
          "output_type": "display_data",
          "data": {
            "image/png": "[encoded data removed]",
            "text/plain": [
              "<Figure size 432x288 with 1 Axes>"
            ]
          },
          "metadata": {
            "tags": [],
            "needs_background": "light"
          }
        }
      ]
    },
    {
      "cell_type": "code",
      "metadata": {
        "id": "tFB-jNBdlfzF",
        "outputId": "856cc1fd-9665-47a1-e208-3e310866d987",
        "colab": {
          "base_uri": "https://localhost:8080/",
          "height": 575
        }
      },
      "source": [
        "# sepal_lengthとpetal_lengthを可視化\n",
        "X_plot = X_train_std[:, [0,2]]\n",
        "\n",
        "scratch_plot = ScratchLogisticRegression()\n",
        "scratch_plot.fit(X_plot, y_train)\n",
        "\n",
        "sk_plot = LogisticRegression()\n",
        "sk_plot.fit(X_plot, y_train)\n",
        "\n",
        "decision_region(X_plot, y_train, scratch_plot, step=0.01, title='Decision Region of Scratch Model',\n",
        "                xlabel='sepal_length', ylabel='petal_length')\n",
        "decision_region(X_plot, y_train, sk_plot, step=0.01, title='Decision Region of sklearn Model',\n",
        "                xlabel='sepal_length', ylabel='petal_length')"
      ],
      "execution_count": 22,
      "outputs": [
        {
          "output_type": "display_data",
          "data": {
            "image/png": "[encoded data removed]",
            "text/plain": [
              "<Figure size 432x288 with 1 Axes>"
            ]
          },
          "metadata": {
            "tags": [],
            "needs_background": "light"
          }
        },
        {
          "output_type": "display_data",
          "data": {
            "image/png": "[encoded data removed]",
            "text/plain": [
              "<Figure size 432x288 with 1 Axes>"
            ]
          },
          "metadata": {
            "tags": [],
            "needs_background": "light"
          }
        }
      ]
    }
  ]
}