{
  "nbformat": 4,
  "nbformat_minor": 0,
  "metadata": {
    "kernelspec": {
      "display_name": "Python 3",
      "language": "python",
      "name": "python3"
    },
    "language_info": {
      "codemirror_mode": {
        "name": "ipython",
        "version": 3
      },
      "file_extension": ".py",
      "mimetype": "text/x-python",
      "name": "python",
      "nbconvert_exporter": "python",
      "pygments_lexer": "ipython3",
      "version": "3.7.7"
    },
    "colab": {
      "name": "Sprint_06.ipynb",
      "provenance": [],
      "collapsed_sections": [],
      "include_colab_link": true
    }
  },
  "cells": [
    {
      "cell_type": "markdown",
      "metadata": {
        "id": "view-in-github",
        "colab_type": "text"
      },
      "source": [
        "<a href=\"https://colab.research.google.com/github/aiguozhe01/DIC_Assignment/blob/master/Sprint_06.ipynb\" target=\"_parent\"><img src=\"https://colab.research.google.com/assets/colab-badge.svg\" alt=\"Open In Colab\"/></a>"
      ]
    },
    {
      "cell_type": "markdown",
      "metadata": {
        "id": "mde50daPWvFM"
      },
      "source": [
        "# Sprint 機械学習スクラッチ 決定木"
      ]
    },
    {
      "cell_type": "markdown",
      "metadata": {
        "id": "IOkJHUXyWvFN"
      },
      "source": [
        "## 【考察】\n",
        "\n",
        "* どう決定木は作られていくか。\n",
        "* 以下の条件次第で、木の構成は変わる。\n",
        "    * 学習方法\n",
        "    * ハイパーパラメータ\n",
        "    * 訓練データ\n",
        "\n",
        "* 今回の決定木は量的変数のみに特化する。\n",
        "    * カテゴリ変数には「0と1」で代用する。\n",
        "    \n"
      ]
    },
    {
      "cell_type": "code",
      "metadata": {
        "id": "Frd7_lbRWvFO"
      },
      "source": [
        "import numpy as np\n",
        "import pandas as pd\n",
        "import scipy.stats as stats\n",
        "import matplotlib.pyplot as plt\n",
        "import warnings\n",
        "warnings.filterwarnings('ignore')"
      ],
      "execution_count": null,
      "outputs": []
    },
    {
      "cell_type": "code",
      "metadata": {
        "id": "4OZauQWTWvFQ"
      },
      "source": [
        "class ScratchDecisionTreeClassifierDepth1():\n",
        "    \"\"\"\n",
        "    深さ1の決定木分類器のスクラッチ実装\n",
        "\n",
        "    Attributes\n",
        "    ----------\n",
        "    self.threshold : number\n",
        "      決定木の閾値\n",
        "    self.threshold_id : 次の形のndarray, shape (1, 1) \n",
        "      閾値のインデックス\n",
        "    self.leaf_l : number or obj\n",
        "      左側の葉ノードの推定ラベル\n",
        "    self.leaf_r : number or obj\n",
        "      右側の葉ノードの推定ラベル\n",
        "    \"\"\"\n",
        "    \n",
        "    def __init__(self):\n",
        "        self.threshold = None\n",
        "        self.threshold_id = None\n",
        "        self.leaf_l = None\n",
        "        self.leaf_r = None\n",
        "        \n",
        "        \n",
        "    def gini_impurity(data):\n",
        "        \"\"\"\n",
        "        ジニ不純度を計算する\n",
        "\n",
        "        Parameters\n",
        "        ----------\n",
        "        data : 次の形のndarray, shape (n_samples,)\n",
        "    　　　　目的変数の配列\n",
        "\n",
        "        Returns\n",
        "        -------\n",
        "          float\n",
        "          計算されたジニ不純度\n",
        "\n",
        "        \"\"\"\n",
        "        gi = 0\n",
        "\n",
        "        labels, count = np.unique(data, return_counts=True)\n",
        "\n",
        "        for i in range(len(labels)):\n",
        "            gi += (count[i]/len(data))**2\n",
        "\n",
        "        return 1 - gi\n",
        "    \n",
        "    \n",
        "    def information_gain(node_root, node_l, node_r):\n",
        "        \"\"\"\n",
        "        利得情報を計算する\n",
        "\n",
        "        Parameters\n",
        "        ----------\n",
        "        node_root : 次の形のndarray, shape (n_samples,)\n",
        "          分割前の目的変数\n",
        "        node_l : 次の形のndarray, shape (n_samples,)\n",
        "          分割後に左ノードに格納された目的変数\n",
        "        node_r : 次の形のndarray, shape (n_samples,)\n",
        "          分割後に右ノードに格納された目的変数\n",
        "          \n",
        "        Returns\n",
        "        -------\n",
        "        ig : float\n",
        "          計算された利得情報\n",
        "\n",
        "        \"\"\"\n",
        "        ig = gini_impurity(node_root) \\\n",
        "             - len(node_l)/len(node_root) * gini_impurity(node_l) \\\n",
        "             - len(node_r)/len(node_root) * gini_impurity(node_r)\n",
        "\n",
        "        return ig\n",
        "    \n",
        "    \n",
        "    def fit(self, X, y):\n",
        "        \"\"\"\n",
        "        決定木分類器を学習する\n",
        "        \n",
        "        Parameters\n",
        "        ----------\n",
        "        X : 次の形のndarray, shape (n_samples, n_features)\n",
        "            訓練データの特徴量\n",
        "        y : 次の形のndarray, shape (n_samples, )\n",
        "            訓練データの正解値\n",
        "        \"\"\"\n",
        "            \n",
        "        node_root = y\n",
        "    \n",
        "        ig = np.empty(X.shape)\n",
        "\n",
        "        # 各特徴量に対して利得情報を計算\n",
        "        for j in range(len(X[0])):\n",
        "            # 各サンプルを決定境界とした場合の利得情報を計算\n",
        "            for i in range(len(X)):\n",
        "                threshold = X[i][j]\n",
        "                node_l = y[X[:,j] < threshold]\n",
        "                node_r = y[X[:,j] >= threshold]\n",
        "\n",
        "                ig[i][j] = information_gain(node_root, node_l, node_r)\n",
        "\n",
        "        # 最大利得情報のインデックスを２次元で抽出\n",
        "        self.threshold_id = np.unravel_index(np.argmax(ig), ig.shape)\n",
        "        self.threshold = X[self.threshold_id]\n",
        "\n",
        "        self.leaf_l = stats.mode(y[X[:, self.threshold_id[1]] < self.threshold])[0]\n",
        "        self.leaf_r = stats.mode(y[X[:, self.threshold_id[1]] >= self.threshold])[0]\n",
        "    \n",
        "    \n",
        "    def predict(self, X):\n",
        "        \"\"\"\n",
        "        決定木分類器を使いラベルを推定する\n",
        "        \n",
        "        Parameters\n",
        "        ----------\n",
        "        X : 次の形のndarray, shape (n_samples, n_features)\n",
        "            訓練データの特徴量\n",
        "            \n",
        "        Returns\n",
        "        -------\n",
        "        pred : 次の形のndarray, shape (n_samples, )\n",
        "          推定された値\n",
        "        \n",
        "        \"\"\"\n",
        "        \n",
        "        pred = np.where(X[:, self.threshold_id[1]] < self.threshold, self.leaf_l, self.leaf_r)\n",
        "    \n",
        "   \n",
        "        return pred"
      ],
      "execution_count": null,
      "outputs": []
    },
    {
      "cell_type": "markdown",
      "metadata": {
        "id": "m4H4G8y7WvFS"
      },
      "source": [
        "## 【問題1】不純度を求める関数（CART式）\n",
        "\n",
        "### ノードのジニ不純度を計算する関数を作成してください\n",
        "\n",
        "* ジニ不純度とは、そのノードでのサンプルのクラスの異なりが同程度存在する確率。\n",
        "    * 確率が高いとノード内のサンプルが全て、異なるクラスに属している。\n",
        "        * データが半々なのは悪い分類\n",
        "    * 確率が低いとノード内のサンプルが全て、同じクラスに属している。\n",
        "    * ベルヌーイ分布における、全てのクラスの分散の和に相当する。\n",
        "* ノード内の不純度を最大限減らす（ジニ不純度が低い）素性と閾値の組を選ぶために、ジニ不純度を用いる。\n",
        "* 不純度が最も低ければジニ不純度の値は0、不純度が高くなればなるほどジニ不純度の値が1に漸近する。（[参照先url](https://qiita.com/3000manJPY/items/ef7495960f472ec14377)）\n",
        "* 最終的に情報利得Δgainで算出する。\n",
        "    * 利得が高い特徴と閾値ほど、不純度を最大限減らせる。\n",
        "    \n",
        "\n",
        "\n",
        "1. ジニ係数を算出する関数を構築する。\n",
        "2. ジニ係数を用い、情報利得を算出する関数を構築する。\n"
      ]
    },
    {
      "cell_type": "code",
      "metadata": {
        "id": "w_CsbmIeWvFT"
      },
      "source": [
        "def gini_impurity(data):\n",
        "    \"\"\"\n",
        "    ジニ不純度を計算する\n",
        "\n",
        "    Parameters\n",
        "    ----------\n",
        "    data : 次の形のndarray, shape (n_samples,)\n",
        "    目的変数の配列\n",
        "\n",
        "    Returns\n",
        "    -------\n",
        "      float\n",
        "      計算されたジニ不純度\n",
        "\n",
        "    \"\"\"\n",
        "    gi = 0\n",
        "    \n",
        "    labels, count = np.unique(data, return_counts=True)\n",
        "    \n",
        "    for i in range(len(labels)):\n",
        "        gi += (count[i]/len(data))**2\n",
        "    \n",
        "    return 1 - gi"
      ],
      "execution_count": null,
      "outputs": []
    },
    {
      "cell_type": "code",
      "metadata": {
        "id": "zrTDoDK1WvFV",
        "outputId": "dc4accbd-1428-493a-b079-9a77b6d9d470",
        "colab": {
          "base_uri": "https://localhost:8080/",
          "height": 51
        }
      },
      "source": [
        "data1 = np.concatenate((np.zeros(15), np.ones(15)))\n",
        "data2 = np.concatenate((np.concatenate((np.zeros(15), np.ones(15))),\n",
        "                        np.full(15, 2)))\n",
        "\n",
        "print(gini_impurity(data1))\n",
        "print(gini_impurity(data2))"
      ],
      "execution_count": null,
      "outputs": [
        {
          "output_type": "stream",
          "text": [
            "0.5\n",
            "0.6666666666666667\n"
          ],
          "name": "stdout"
        }
      ]
    },
    {
      "cell_type": "markdown",
      "metadata": {
        "id": "XAnTlqWAWvFX"
      },
      "source": [
        "## 【問題2】情報利得を求める関数\n",
        "\n",
        "* 問題1で算出した確率はジニ不純度（ジニ係数）$I(t)$をroot_node $I(p)$として用いる。\n",
        "* 左右各ノードのサンプル数を引数として情報利得を算出する。"
      ]
    },
    {
      "cell_type": "code",
      "metadata": {
        "id": "01SwwyAyWvFX"
      },
      "source": [
        "def information_gain(node_root, node_l, node_r):\n",
        "    \"\"\"\n",
        "    利得情報を計算する\n",
        "\n",
        "    Parameters\n",
        "    ----------\n",
        "    node_root : 次の形のndarray, shape (n_samples,)\n",
        "      分割前の目的変数\n",
        "    node_l : 次の形のndarray, shape (n_samples,)\n",
        "      分割後に左ノードに格納された目的変数\n",
        "    node_r : 次の形のndarray, shape (n_samples,)\n",
        "      分割後に右ノードに格納された目的変数\n",
        "\n",
        "    Returns\n",
        "    -------\n",
        "    ig : float\n",
        "      計算された利得情報\n",
        "\n",
        "    \"\"\"\n",
        "    ig = gini_impurity(node_root) \\\n",
        "         - len(node_l)/len(node_root) * gini_impurity(node_l) \\\n",
        "         - len(node_r)/len(node_root) * gini_impurity(node_r)\n",
        "    \n",
        "    return ig"
      ],
      "execution_count": null,
      "outputs": []
    },
    {
      "cell_type": "code",
      "metadata": {
        "id": "jAbeO4JFWvFZ",
        "outputId": "bb597ed4-ebff-4b6f-cea4-186cae047229",
        "colab": {
          "base_uri": "https://localhost:8080/",
          "height": 34
        }
      },
      "source": [
        "#node_root = np.concatenate((np.zeros(30), np.ones(35)))\n",
        "node_l = np.concatenate((np.zeros(10), np.ones(30)))\n",
        "node_r = np.concatenate((np.zeros(20), np.ones(5)))\n",
        "\n",
        "print(information_gain(node_root, node_l, node_r))"
      ],
      "execution_count": null,
      "outputs": [
        {
          "output_type": "stream",
          "text": [
            "0.14319526627218937\n"
          ],
          "name": "stdout"
        }
      ]
    },
    {
      "cell_type": "markdown",
      "metadata": {
        "id": "3DpzISXrWvFb"
      },
      "source": [
        "## 【問題3】学習\n",
        "\n",
        "全サンプルの情報利得を算出する。\n",
        "\n",
        "1. 説明変数Xから、行列内の要素を一つ抽出する。\n",
        "2. 抽出した要素を閾値として、全ての説明変数を葉ノードに振り分ける。\n",
        "    * 閾値以下：左\n",
        "    * 閾値以上：右\n",
        "3. 左右の葉ノード内も目的変数yの0, 1の個数を返す。\n",
        "    * 情報利得算出に必要なのはラベル別の個数！\n",
        "        * 葉ノードのラベル別個数\n",
        "            * left_node_1\n",
        "            * left_node_2\n",
        "            * right_node_1\n",
        "            * right_node_2\n",
        "4. 問題2の関数を用いて、情報利得を算出する。\n",
        "5. 算出した情報利得を新しい行列内に追記する。\n",
        "6. 最初に戻り、次のインデックスを抽出する。（繰り返す）\n",
        "7. 全てのインデックスを基に算出した情報利得を代入した行列を完成させる。\n",
        "8. 最大値の情報利得を抽出する。\n",
        "    1. 情報利得を代入した行列内の最大値を抽出する。\n",
        "    2. 抽出した要素とインデックスをインスタンス化させて、次の推定に活用する。"
      ]
    },
    {
      "cell_type": "code",
      "metadata": {
        "id": "Sl-id2PQaERG"
      },
      "source": [
        "def fit(X, y):\n",
        "    \"\"\"\n",
        "    決定木分類器を学習する\n",
        "\n",
        "    Parameters\n",
        "    ----------\n",
        "    X : 次の形のndarray, shape (n_samples, n_features)\n",
        "        訓練データの特徴量\n",
        "    y : 次の形のndarray, shape (n_samples, )\n",
        "        訓練データの正解値\n",
        "    \"\"\"\n",
        "    \n",
        "    node_root = y\n",
        "    \n",
        "    ig = np.empty(X.shape)\n",
        "    \n",
        "    # 各特徴量に対して利得情報を計算\n",
        "    for j in range(len(X[0])):\n",
        "        # 各サンプルを決定境界とした場合の利得情報を計算\n",
        "        for i in range(len(X)):\n",
        "            threshold = X[i][j]\n",
        "            node_l = y[X[:,j] < threshold]\n",
        "            node_r = y[X[:,j] >= threshold]\n",
        "\n",
        "            ig[i][j] = information_gain(node_root, node_l, node_r)\n",
        "        \n",
        "    # 最大利得情報のインデックスを２次元で抽出\n",
        "    threshold_id = np.unravel_index(np.argmax(ig), ig.shape)\n",
        "    threshold = X[threshold_id]\n",
        "    \n",
        "    leaf_l = stats.mode(y[X[:, threshold_id[1]] < threshold])[0]\n",
        "    leaf_r = stats.mode(y[X[:, threshold_id[1]] >= threshold])[0]\n",
        "  \n",
        "    return threshold_id, threshold"
      ],
      "execution_count": null,
      "outputs": []
    },
    {
      "cell_type": "markdown",
      "metadata": {
        "id": "Ie_Fj67FWvF1"
      },
      "source": [
        "## 【問題4】推定\n",
        "\n",
        "推定する仕組みを実装する。\n",
        "\n",
        "1. ScratchDecesionTreeClassifierDepth1クラスの雛形に含まれるpredictメソッドに書き加える。\n",
        "2. 入力されたデータの値が、学習後の関数を用いて、どの葉ノードのどのクラスに到達するかを確認する。"
      ]
    },
    {
      "cell_type": "code",
      "metadata": {
        "id": "xdaPJ-0PWvF1"
      },
      "source": [
        "def predict(X):\n",
        "    \"\"\"\n",
        "    決定木分類器を使いラベルを推定する\n",
        "\n",
        "    Parameters\n",
        "    ----------\n",
        "    X : 次の形のndarray, shape (n_samples, n_features)\n",
        "        訓練データの特徴量\n",
        "\n",
        "    Returns\n",
        "    -------\n",
        "    pred : 次の形のndarray, shape (n_samples, )\n",
        "      推定された値\n",
        "\n",
        "    \"\"\"\n",
        "    \n",
        "    pred = np.where(X < threshold, leaf_l, leaf_r)\n",
        "    \n",
        "    return pred"
      ],
      "execution_count": null,
      "outputs": []
    },
    {
      "cell_type": "markdown",
      "metadata": {
        "id": "xMKO3-uUaQIT"
      },
      "source": [
        "## 【問題5】学習と推定"
      ]
    },
    {
      "cell_type": "code",
      "metadata": {
        "id": "kklKWCVuWvF3"
      },
      "source": [
        "# シンプルデータセット2作成コード\n",
        "\n",
        "X = np.array([[-0.44699 , -2.8073  ],[-1.4621  , -2.4586  ],\n",
        "           [ 0.10645 ,  1.9242  ],[-3.5944  , -4.0112  ],\n",
        "           [-0.9888  ,  4.5718  ],[-3.1625  , -3.9606  ],\n",
        "           [ 0.56421 ,  0.72888 ],[-0.60216 ,  8.4636  ],\n",
        "           [-0.61251 , -0.75345 ],[-0.73535 , -2.2718  ],\n",
        "           [-0.80647 , -2.2135  ],[ 0.86291 ,  2.3946  ],\n",
        "           [-3.1108  ,  0.15394 ],[-2.9362  ,  2.5462  ],\n",
        "           [-0.57242 , -2.9915  ],[ 1.4771  ,  3.4896  ],\n",
        "           [ 0.58619 ,  0.37158 ],[ 0.6017  ,  4.3439  ],\n",
        "           [-2.1086  ,  8.3428  ],[-4.1013  , -4.353   ],\n",
        "           [-1.9948  , -1.3927  ],[ 0.35084 , -0.031994],\n",
        "           [ 0.96765 ,  7.8929  ],[-1.281   , 15.6824  ],\n",
        "           [ 0.96765 , 10.083   ],[ 1.3763  ,  1.3347  ],\n",
        "           [-2.234   , -2.5323  ],[-2.9452  , -1.8219  ],\n",
        "           [ 0.14654 , -0.28733 ],[ 0.5461  ,  5.8245  ],\n",
        "           [-0.65259 ,  9.3444  ],[ 0.59912 ,  5.3524  ],\n",
        "           [ 0.50214 , -0.31818 ],[-3.0603  , -3.6461  ],\n",
        "           [-6.6797  ,  0.67661 ],[-2.353   , -0.72261 ],\n",
        "           [ 1.1319  ,  2.4023  ],[-0.12243 ,  9.0162  ],\n",
        "           [-2.5677  , 13.1779  ],[ 0.057313,  5.4681  ]])\n",
        "y = np.array([0, 0, 0, 0, 0, 0, 0, 0, 0, 0, 0, 0, 0, 0, 0, 0, 0, 0, 0, 0, 1, 1,\n",
        "       1, 1, 1, 1, 1, 1, 1, 1, 1, 1, 1, 1, 1, 1, 1, 1, 1, 1])"
      ],
      "execution_count": null,
      "outputs": []
    },
    {
      "cell_type": "code",
      "metadata": {
        "id": "ZvPLSCGLWvF5"
      },
      "source": [
        "# sklearnの決定木を読み込み\n",
        "from sklearn.tree import DecisionTreeClassifier\n",
        "\n",
        "# 評価指標の読み込みおよび関数化\n",
        "from sklearn.metrics import accuracy_score\n",
        "from sklearn.metrics import precision_score\n",
        "from sklearn.metrics import recall_score\n",
        "from sklearn.metrics import f1_score\n",
        "\n",
        "def get_scores(y_true, y_pred):\n",
        "    print(\"-\"*20)\n",
        "    print(\"正解率：{:.2f}\".format(accuracy_score(y_true, y_pred)))\n",
        "    print(\"適合率：{:.2f}\".format(precision_score(y_true, y_pred)))\n",
        "    print(\"再現率：{:.2f}\".format(recall_score(y_true, y_pred)))\n",
        "    print(\"F1値：{:.2f}\".format(f1_score(y_true, y_pred)))\n",
        "    print(\"-\"*20)\n",
        "    print(\"\\n\")"
      ],
      "execution_count": null,
      "outputs": []
    },
    {
      "cell_type": "code",
      "metadata": {
        "id": "OvWh9t8JWvF7",
        "outputId": "2cf7525e-f04d-4c2b-8ffc-1154a179c251",
        "colab": {
          "base_uri": "https://localhost:8080/",
          "height": 51
        }
      },
      "source": [
        "# データの分割（今回は7：3の割合）\n",
        "from sklearn.model_selection import train_test_split\n",
        "\n",
        "X_train, X_test, y_train, y_test = train_test_split(X, y, test_size=0.25, stratify=y)\n",
        "\n",
        "print(X_train.shape)\n",
        "print(y_train.shape)"
      ],
      "execution_count": null,
      "outputs": [
        {
          "output_type": "stream",
          "text": [
            "(30, 2)\n",
            "(30,)\n"
          ],
          "name": "stdout"
        }
      ]
    },
    {
      "cell_type": "code",
      "metadata": {
        "id": "AcG3RXEQWvF9",
        "outputId": "497f478f-8c59-4a31-cc55-a5166f1b41dd",
        "colab": {
          "base_uri": "https://localhost:8080/",
          "height": 323
        }
      },
      "source": [
        "# スクラッチモデルの学習と推定\n",
        "scratch_tree = ScratchDecisionTreeClassifierDepth1()\n",
        "\n",
        "scratch_tree.fit(X_train, y_train)\n",
        "\n",
        "scratch_pred = scratch_tree.predict(X_test)\n",
        "\n",
        "print(\"スクラッチモデルの成績\")\n",
        "get_scores(y_test, scratch_pred)\n",
        "\n",
        "# sklearnモデルの学習と推定\n",
        "sk_tree = DecisionTreeClassifier(max_depth=1)\n",
        "\n",
        "sk_tree.fit(X_train, y_train)\n",
        "\n",
        "sk_pred = sk_tree.predict(X_test)\n",
        "\n",
        "print(\"sklearnモデルの成績\")\n",
        "get_scores(y_test, sk_pred)"
      ],
      "execution_count": null,
      "outputs": [
        {
          "output_type": "stream",
          "text": [
            "スクラッチモデルの成績\n",
            "--------------------\n",
            "正解率：0.50\n",
            "適合率：0.50\n",
            "再現率：0.20\n",
            "F1値：0.29\n",
            "--------------------\n",
            "\n",
            "\n",
            "sklearnモデルの成績\n",
            "--------------------\n",
            "正解率：0.50\n",
            "適合率：0.50\n",
            "再現率：0.20\n",
            "F1値：0.29\n",
            "--------------------\n",
            "\n",
            "\n"
          ],
          "name": "stdout"
        }
      ]
    },
    {
      "cell_type": "markdown",
      "metadata": {
        "id": "5ZFO96PCaftt"
      },
      "source": [
        "## 【問題6】決定領域の可視化"
      ]
    },
    {
      "cell_type": "code",
      "metadata": {
        "id": "UMIsE95eagyK"
      },
      "source": [
        "import matplotlib.pyplot as plt\n",
        "from matplotlib.colors import ListedColormap\n",
        "import matplotlib.patches as mpatches\n",
        "def decision_region(X, y, model, target_names, step=0.01, title='decision region', xlabel='xlabel',\n",
        "                    ylabel='ylabel'):\n",
        "    \"\"\"\n",
        "    2値分類を2次元の特徴量で学習したモデルの決定領域を描く。\n",
        "    背景の色が学習したモデルによる推定値から描画される。\n",
        "    散布図の点は訓練データまたは検証データである。\n",
        "\n",
        "    Parameters\n",
        "    ----------------\n",
        "    X : ndarray, shape(n_samples, 2)\n",
        "        特徴量\n",
        "    y : ndarray, shape(n_samples,)\n",
        "        ラベル\n",
        "    model : object\n",
        "        学習したモデルのインスンタスを入れる\n",
        "    step : float, (default : 0.1)\n",
        "        推定値を計算する間隔を設定する\n",
        "    title : str\n",
        "        グラフのタイトルの文章を与える\n",
        "    xlabel, ylabel : str\n",
        "        軸ラベルの文章を与える\n",
        "    target_names= : list of str\n",
        "        凡例の一覧を与える\n",
        "    \"\"\"\n",
        "    # setting\n",
        "    scatter_color = ['red', 'blue']\n",
        "    contourf_color = ['pink', 'skyblue']\n",
        "    n_class = 2\n",
        "    # pred\n",
        "    mesh_f0, mesh_f1 = np.meshgrid(np.arange(np.min(X[:,0])-0.5, np.max(X[:,0])+0.5, step), np.arange(np.min(X[:,1])-0.5, np.max(X[:,1])+0.5, step))\n",
        "    mesh = np.c_[np.ravel(mesh_f0),np.ravel(mesh_f1)]\n",
        "    y_pred = model.predict(mesh).reshape(mesh_f0.shape)\n",
        "    # plot\n",
        "    plt.title(title)\n",
        "    plt.xlabel(xlabel)\n",
        "    plt.ylabel(ylabel)\n",
        "    plt.contourf(mesh_f0, mesh_f1, y_pred, n_class-1, cmap=ListedColormap(contourf_color))\n",
        "    plt.contour(mesh_f0, mesh_f1, y_pred, n_class-1, colors='y', linewidths=3, alpha=0.5)\n",
        "    for i, target in enumerate(set(y)):\n",
        "        plt.scatter(X[y==target][:, 0], X[y==target][:, 1], s=80, color=scatter_color[i], label=target_names[i], marker='o')\n",
        "    patches = [mpatches.Patch(color=scatter_color[i], label=target_names[i]) for i in range(n_class)]\n",
        "    plt.legend(handles=patches)\n",
        "    plt.legend()\n",
        "    plt.show()"
      ],
      "execution_count": null,
      "outputs": []
    },
    {
      "cell_type": "code",
      "metadata": {
        "id": "iE4H17u9aj2l",
        "outputId": "0f99afc5-66b8-4970-fbbd-b5d5893b87b4",
        "colab": {
          "base_uri": "https://localhost:8080/",
          "height": 573
        }
      },
      "source": [
        "# スクラッチモデルの可視化\n",
        "decision_region(X_train, y_train, scratch_tree, title='Scratch Model Decision Region',\n",
        "                xlabel='x1', ylabel='x2', target_names=['0', '1'])\n",
        "\n",
        "# sklearnモデルの可視化\n",
        "decision_region(X_train, y_train, sk_tree, title='SKlearn Model Decision Region',\n",
        "                xlabel='x1', ylabel='x2', target_names=['0', '1'])"
      ],
      "execution_count": null,
      "outputs": [
        {
          "output_type": "display_data",
          "data": {
            "image/png": "[encoded data removed]",
            "text/plain": [
              "<Figure size 432x288 with 1 Axes>"
            ]
          },
          "metadata": {
            "tags": [],
            "needs_background": "light"
          }
        },
        {
          "output_type": "display_data",
          "data": {
            "image/png": "[encoded data removed]",
            "text/plain": [
              "<Figure size 432x288 with 1 Axes>"
            ]
          },
          "metadata": {
            "tags": [],
            "needs_background": "light"
          }
        }
      ]
    }
  ]
}