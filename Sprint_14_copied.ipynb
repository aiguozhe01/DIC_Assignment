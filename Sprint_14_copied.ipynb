{
  "nbformat": 4,
  "nbformat_minor": 0,
  "metadata": {
    "colab": {
      "name": "Sprint_14_copied.ipynb",
      "provenance": [],
      "collapsed_sections": [],
      "mount_file_id": "1mmE2tMGdjACCqPuTeDsAqMElbS-d22zM",
      "authorship_tag": "ABX9TyN2yETfYjyHmLPXOm8jA+Fc",
      "include_colab_link": true
    },
    "kernelspec": {
      "name": "python3",
      "display_name": "Python 3"
    },
    "accelerator": "TPU"
  },
  "cells": [
    {
      "cell_type": "markdown",
      "metadata": {
        "id": "view-in-github",
        "colab_type": "text"
      },
      "source": [
        "<a href=\"https://colab.research.google.com/github/aiguozhe01/DIC_Assignment/blob/master/Sprint_14_copied.ipynb\" target=\"_parent\"><img src=\"https://colab.research.google.com/assets/colab-badge.svg\" alt=\"Open In Colab\"/></a>"
      ]
    },
    {
      "cell_type": "markdown",
      "metadata": {
        "id": "ugEFb4u35YxG"
      },
      "source": [
        "# Sprint ディープラーニングフレームワーク2"
      ]
    },
    {
      "cell_type": "markdown",
      "metadata": {
        "id": "7Fv-UwP2S6gF"
      },
      "source": [
        "# 【問題1】公式チュートリアルモデルを分担して実行\n",
        "\n",
        "* 選択課題：畳み込みニューラルネットワーク (Convolutional Neural Networks)\n",
        "* 参照元url： https://colab.research.google.com/drive/1EjCLLDPX9vlTfT6alFIvyetG1OvmmD0Q?hl=ja#scrollTo=7Fv-UwP2S6gF"
      ]
    },
    {
      "cell_type": "markdown",
      "metadata": {
        "id": "qw6eYFd8TOTD"
      },
      "source": [
        "## TensorFlowのインポート"
      ]
    },
    {
      "cell_type": "code",
      "metadata": {
        "id": "oPIKSQLASS1N"
      },
      "source": [
        "# !pip install -q tensorflow-gpu==2.0.0-rc1\n",
        "import tensorflow as tf\n",
        "import pandas as pd\n",
        "from tensorflow.keras import datasets, layers, models"
      ],
      "execution_count": 3,
      "outputs": []
    },
    {
      "cell_type": "markdown",
      "metadata": {
        "id": "gxoLK7-LTWN6"
      },
      "source": [
        "## MNISTデータセットのダウンロードと準備"
      ]
    },
    {
      "cell_type": "code",
      "metadata": {
        "id": "U6JVEyTaTcMM"
      },
      "source": [
        "(train_images, train_labels), (test_images, test_labels) = datasets.mnist.load_data()\n",
        "\n",
        "# (枚数、縦pixel、横pixel、カラーチャンネル数)\n",
        "train_images = train_images.reshape((60000, 28, 28, 1))\n",
        "test_images = test_images.reshape((10000, 28, 28, 1))\n",
        "\n",
        "# ピクセルの値を 0~1の間に正規化\n",
        "train_images, test_images = train_images / 255.0, test_images / 255.0"
      ],
      "execution_count": null,
      "outputs": []
    },
    {
      "cell_type": "code",
      "metadata": {
        "id": "fOBiTcuXkXrR",
        "outputId": "883e058f-de85-4fbd-a158-1dd63081445f",
        "colab": {
          "base_uri": "https://localhost:8080/",
          "height": 34
        }
      },
      "source": [
        "test_images.shape"
      ],
      "execution_count": null,
      "outputs": [
        {
          "output_type": "execute_result",
          "data": {
            "text/plain": [
              "(10000, 28, 28, 1)"
            ]
          },
          "metadata": {
            "tags": []
          },
          "execution_count": 26
        }
      ]
    },
    {
      "cell_type": "markdown",
      "metadata": {
        "id": "mmNDJC2rVBu3"
      },
      "source": [
        "## 畳み込みの基礎部分の作成\n",
        "\n",
        "* Conv2DとMaxPooling2Dレイヤーのスタック\n",
        "* CNNはbatchサイズを無視して、shape(image_height, image_width, color_channels)のテンソルをとる。\n",
        "* 今回のMNIST画像はグレースケールのため、color_channels=1、RGBの場合は3\n",
        "* 入力フォーマット(28, 28, 1)を引数input_shapeとして最初のレイヤーに渡す。"
      ]
    },
    {
      "cell_type": "code",
      "metadata": {
        "id": "4roJGDVpUWg-"
      },
      "source": [
        "model = models.Sequential()\n",
        "# 最初の畳み込みレイヤー\n",
        "# チャンネル数：32、抽出するストライド範囲、活性化関数、最初の層に必要な入力形式\n",
        "model.add(layers.Conv2D(32, (3, 3), activation='relu', input_shape=(28, 28, 1)))\n",
        "\n",
        "# 最初の隠れ層\n",
        "# プーリング演算：(2, 2)はダウンスケールする係数。今回はそれぞれの次元で半分。\n",
        "model.add(layers.MaxPooling2D((2, 2)))\n",
        "\n",
        "# 2層目\n",
        "model.add(layers.Conv2D(64, (3, 3), activation='relu'))\n",
        "\n",
        "# 2番目の隠れ層\n",
        "model.add(layers.MaxPooling2D((2, 2)))\n",
        "\n",
        "# 3層目\n",
        "model.add(layers.Conv2D(64, (3,3), activation='relu'))"
      ],
      "execution_count": null,
      "outputs": []
    },
    {
      "cell_type": "code",
      "metadata": {
        "id": "LaGW6CeFZa6c",
        "outputId": "f39a2f91-0bbf-45ad-e96d-2ab7a6c213f1",
        "colab": {
          "base_uri": "https://localhost:8080/",
          "height": 323
        }
      },
      "source": [
        "# モデルのArchitectureを表示\n",
        "model.summary()"
      ],
      "execution_count": null,
      "outputs": [
        {
          "output_type": "stream",
          "text": [
            "Model: \"sequential_5\"\n",
            "_________________________________________________________________\n",
            "Layer (type)                 Output Shape              Param #   \n",
            "=================================================================\n",
            "conv2d_9 (Conv2D)            (None, 26, 26, 32)        320       \n",
            "_________________________________________________________________\n",
            "max_pooling2d_4 (MaxPooling2 (None, 13, 13, 32)        0         \n",
            "_________________________________________________________________\n",
            "conv2d_10 (Conv2D)           (None, 11, 11, 64)        18496     \n",
            "_________________________________________________________________\n",
            "max_pooling2d_5 (MaxPooling2 (None, 5, 5, 64)          0         \n",
            "_________________________________________________________________\n",
            "conv2d_11 (Conv2D)           (None, 3, 3, 64)          36928     \n",
            "=================================================================\n",
            "Total params: 55,744\n",
            "Trainable params: 55,744\n",
            "Non-trainable params: 0\n",
            "_________________________________________________________________\n"
          ],
          "name": "stdout"
        }
      ]
    },
    {
      "cell_type": "markdown",
      "metadata": {
        "id": "J1MKLFJidofx"
      },
      "source": [
        "## Denseレイヤーを追加\n",
        "\n",
        "* 畳み込み後の出力（3, 3, 64）を、1つ以上のDenseレイヤーに入れて分類を実行する。\n",
        "* Denseレイヤーは入力としてベクトル(1D)を取り入れる。\n",
        "* そのため、畳み込み後の3D出力を1Dに平滑化してから、Denseレイヤーを追加する。\n",
        "* 今回のMNISTは10個の出力クラスを持つため、最後のDenseレイヤーの出力を10にする。\n",
        "* 最後にsoftmax関数を使用する。"
      ]
    },
    {
      "cell_type": "code",
      "metadata": {
        "id": "Z00bc5d6Z6Jh"
      },
      "source": [
        "model.add(layers.Flatten())\n",
        "model.add(layers.Dense(64, activation='relu'))\n",
        "model.add(layers.Dense(10, activation='softmax'))"
      ],
      "execution_count": null,
      "outputs": []
    },
    {
      "cell_type": "code",
      "metadata": {
        "id": "CNxyC9XahD8V",
        "outputId": "9465737a-1beb-4bb5-a721-24791c026fab",
        "colab": {
          "base_uri": "https://localhost:8080/",
          "height": 425
        }
      },
      "source": [
        "# モデルのArchitectureを再度表示する。\n",
        "model.summary()"
      ],
      "execution_count": null,
      "outputs": [
        {
          "output_type": "stream",
          "text": [
            "Model: \"sequential_5\"\n",
            "_________________________________________________________________\n",
            "Layer (type)                 Output Shape              Param #   \n",
            "=================================================================\n",
            "conv2d_9 (Conv2D)            (None, 26, 26, 32)        320       \n",
            "_________________________________________________________________\n",
            "max_pooling2d_4 (MaxPooling2 (None, 13, 13, 32)        0         \n",
            "_________________________________________________________________\n",
            "conv2d_10 (Conv2D)           (None, 11, 11, 64)        18496     \n",
            "_________________________________________________________________\n",
            "max_pooling2d_5 (MaxPooling2 (None, 5, 5, 64)          0         \n",
            "_________________________________________________________________\n",
            "conv2d_11 (Conv2D)           (None, 3, 3, 64)          36928     \n",
            "_________________________________________________________________\n",
            "flatten_1 (Flatten)          (None, 576)               0         \n",
            "_________________________________________________________________\n",
            "dense_2 (Dense)              (None, 64)                36928     \n",
            "_________________________________________________________________\n",
            "dense_3 (Dense)              (None, 10)                650       \n",
            "=================================================================\n",
            "Total params: 93,322\n",
            "Trainable params: 93,322\n",
            "Non-trainable params: 0\n",
            "_________________________________________________________________\n"
          ],
          "name": "stdout"
        }
      ]
    },
    {
      "cell_type": "markdown",
      "metadata": {
        "id": "_LYkRQtbhcAR"
      },
      "source": [
        "## モデルのコンパイルと学習\n",
        "\n",
        "畳み込みニューラルネットワークの計算グラフが完成したので、それを用いて最適化、損失関数、測定基準をコンパイル化（どのような学習方法をさせるか）する。\n",
        "\n",
        "* 最適化方法：adam\n",
        "* 損失関数：sparse_categorical_crossentropy\n",
        "* 測定基準：accuracy\n",
        "\n",
        "epochs数は5回分で学習させる。"
      ]
    },
    {
      "cell_type": "code",
      "metadata": {
        "id": "0McG3kW4hKlq",
        "outputId": "5daccc9e-5a30-42e5-e760-0de1cb27c72c",
        "colab": {
          "base_uri": "https://localhost:8080/",
          "height": 204
        }
      },
      "source": [
        "model.compile(optimizer='adam',\n",
        "              loss='sparse_categorical_crossentropy',\n",
        "              metrics=['accuracy'])\n",
        "\n",
        "model.fit(train_images, train_labels, epochs=5)"
      ],
      "execution_count": null,
      "outputs": [
        {
          "output_type": "stream",
          "text": [
            "Epoch 1/5\n",
            "1875/1875 [==============================] - 5s 3ms/step - loss: 0.1426 - accuracy: 0.9571\n",
            "Epoch 2/5\n",
            "1875/1875 [==============================] - 5s 3ms/step - loss: 0.0487 - accuracy: 0.9849\n",
            "Epoch 3/5\n",
            "1875/1875 [==============================] - 5s 3ms/step - loss: 0.0331 - accuracy: 0.9895\n",
            "Epoch 4/5\n",
            "1875/1875 [==============================] - 5s 3ms/step - loss: 0.0261 - accuracy: 0.9918\n",
            "Epoch 5/5\n",
            "1875/1875 [==============================] - 5s 3ms/step - loss: 0.0198 - accuracy: 0.9938\n"
          ],
          "name": "stdout"
        },
        {
          "output_type": "execute_result",
          "data": {
            "text/plain": [
              "<tensorflow.python.keras.callbacks.History at 0x7f49cac26d68>"
            ]
          },
          "metadata": {
            "tags": []
          },
          "execution_count": 24
        }
      ]
    },
    {
      "cell_type": "markdown",
      "metadata": {
        "id": "MQ_YgNpwjcfs"
      },
      "source": [
        "## 学習済みモデルの評価"
      ]
    },
    {
      "cell_type": "code",
      "metadata": {
        "id": "JWwC6VrdioFM",
        "outputId": "def257c2-506b-486b-a73a-6983dc3dff6a",
        "colab": {
          "base_uri": "https://localhost:8080/",
          "height": 34
        }
      },
      "source": [
        "test_loss, test_acc = model.evaluate(test_images, test_labels, verbose=2)"
      ],
      "execution_count": null,
      "outputs": [
        {
          "output_type": "stream",
          "text": [
            "313/313 - 1s - loss: 0.0329 - accuracy: 0.9901\n"
          ],
          "name": "stdout"
        }
      ]
    },
    {
      "cell_type": "code",
      "metadata": {
        "id": "66lod80bjpLY",
        "outputId": "9751c05c-44bf-477c-88a5-e76a20120eef",
        "colab": {
          "base_uri": "https://localhost:8080/",
          "height": 34
        }
      },
      "source": [
        "print(f'精度：{test_acc*100:.2f}%')"
      ],
      "execution_count": null,
      "outputs": [
        {
          "output_type": "stream",
          "text": [
            "精度：99.01%\n"
          ],
          "name": "stdout"
        }
      ]
    },
    {
      "cell_type": "markdown",
      "metadata": {
        "id": "mkfBkdhjkobP"
      },
      "source": [
        "* 結果、99%以上のテスト精度を達成した。"
      ]
    },
    {
      "cell_type": "markdown",
      "metadata": {
        "id": "-CbyF1sR3LdY"
      },
      "source": [
        "# 【問題2】（アドバンス課題）様々な手法を実行\n",
        "\n",
        "* 参照元url: https://github.com/tensorflow/models/tree/master/research/slim"
      ]
    },
    {
      "cell_type": "code",
      "metadata": {
        "id": "6WXFe08tj0xM"
      },
      "source": [
        ""
      ],
      "execution_count": null,
      "outputs": []
    },
    {
      "cell_type": "markdown",
      "metadata": {
        "id": "W3GVQ1sa40Zs"
      },
      "source": [
        "# 【問題3】Iris（2値分類）をKerasで学習\n",
        "\n",
        "* 隠れ層2枚、出力層1枚の多層パーセプトロン\n",
        "* Kerasの基本的な流れ\n",
        "  1. モデルを定義\n",
        "  2. ネットワークを構築\n",
        "  3. コンパイル\n",
        "  4. 実行\n",
        "----\n",
        "**モデルを定義**\n",
        "* 層の数：4\n",
        "* 入力層：4変数\n",
        "* 中間層（隠れ層①）：50ノード\n",
        "* 中間層（隠れ層②）：100ノード\n",
        "* 出力層（ラベル）：2変数（0 | 1)\n",
        "* バッチ数：10\n",
        "* epoch数：100（default=20）\n",
        "* 活性化関数：relu\n",
        "* 損失関数：categorical_crossentropy\n",
        "* 最適化関数：Adam\n",
        "* 評価関数：Accuracy（精度）"
      ]
    },
    {
      "cell_type": "code",
      "metadata": {
        "id": "NyVM8kUL4329"
      },
      "source": [
        "# ライブラリーとデータを読み出す。\n",
        "\n",
        "import numpy as np\n",
        "import pandas as pd\n",
        "import tensorflow as tf\n",
        "from tensorflow import keras\n",
        "from tensorflow.keras.models import Sequential\n",
        "from tensorflow.keras.layers import Dense\n",
        "from sklearn.datasets import load_iris\n",
        "\n",
        "\n",
        "iris = load_iris()\n",
        "df = pd.DataFrame(iris.data, columns=iris.feature_names)\n",
        "df = df.astype(float)\n",
        "df['Species'] = iris.target\n",
        "# 対象となる説明・目的変数（50～150行目）のみをスライスする。\n",
        "df = df[50:150]\n",
        "\n",
        "X = df[['sepal length (cm)', 'sepal width (cm)', 'petal length (cm)', 'petal width (cm)']]\n",
        "y = df[\"Species\"]\n",
        "\n",
        "# 目的変数のラベルを0か1の二値に変換する。\n",
        "y = y.replace(1, 0) # ラベル1を0に変換\n",
        "y = y.replace(2, 1) # ラベル2を1に変換\n",
        "\n",
        "X = np.array(X)\n",
        "y = np.array(y)\n",
        "\n",
        "# X = pd.DataFrame(iris.data[50:150, :], columns=iris.feature_names)\n",
        "# y = pd.DataFrame(iris.target[50:150], columns=[\"Species\"])"
      ],
      "execution_count": 5,
      "outputs": []
    },
    {
      "cell_type": "code",
      "metadata": {
        "id": "GFnxeFZXSsfH"
      },
      "source": [
        "# 訓練データとテストデータへの分離\n",
        "from sklearn.model_selection import train_test_split\n",
        "\n",
        "X_train, X_test, y_train, y_test = train_test_split(X, y, test_size=0.25, random_state=0)"
      ],
      "execution_count": 5,
      "outputs": []
    },
    {
      "cell_type": "code",
      "metadata": {
        "id": "ugedIUei68gP",
        "outputId": "a74bc0a0-7ed4-474e-bb3d-b6de9262c490",
        "colab": {
          "base_uri": "https://localhost:8080/",
          "height": 255
        }
      },
      "source": [
        "# 多層パーセプトロンの構築\n",
        "\n",
        "model = keras.Sequential(name=\"my_sequential\")\n",
        "model.add(layers.Dense(50, activation='relu', input_shape=(4, ), name=\"layer1\"))\n",
        "model.add(layers.Dense(100, activation='relu', name=\"layer2\"))\n",
        "model.add(layers.Dense(1, activation='softmax', name=\"output_layer\"))\n",
        "\n",
        "model.summary()"
      ],
      "execution_count": null,
      "outputs": [
        {
          "output_type": "stream",
          "text": [
            "Model: \"my_sequential\"\n",
            "_________________________________________________________________\n",
            "Layer (type)                 Output Shape              Param #   \n",
            "=================================================================\n",
            "layer1 (Dense)               (None, 50)                250       \n",
            "_________________________________________________________________\n",
            "layer2 (Dense)               (None, 100)               5100      \n",
            "_________________________________________________________________\n",
            "output_layer (Dense)         (None, 1)                 101       \n",
            "=================================================================\n",
            "Total params: 5,451\n",
            "Trainable params: 5,451\n",
            "Non-trainable params: 0\n",
            "_________________________________________________________________\n"
          ],
          "name": "stdout"
        }
      ]
    },
    {
      "cell_type": "code",
      "metadata": {
        "id": "yVNySxTphr-4"
      },
      "source": [
        "# 構築したmodelを用いcompile（どのように学習させるか）を設定する。\n",
        "from keras.optimizers import Adam\n",
        "model.compile(\n",
        "    optimizer='rmsprop',\n",
        "    loss='categorical_crossentropy', \n",
        "    metrics=['accuracy']\n",
        ")"
      ],
      "execution_count": null,
      "outputs": []
    },
    {
      "cell_type": "code",
      "metadata": {
        "id": "yurZ4ZKTtX1V",
        "outputId": "5355bfbf-7e76-4667-8a5c-d00cb441eff5",
        "colab": {
          "base_uri": "https://localhost:8080/",
          "height": 697
        }
      },
      "source": [
        "# 学習を実行する。\n",
        "history = model.fit(X_train, y_train,\n",
        "                    batch_size=10,\n",
        "                    epochs=20,\n",
        "                    validation_split=0.2\n",
        "                    )"
      ],
      "execution_count": null,
      "outputs": [
        {
          "output_type": "stream",
          "text": [
            "Epoch 1/20\n",
            "6/6 [==============================] - 0s 21ms/step - loss: 0.0000e+00 - accuracy: 0.4833 - val_loss: 0.0000e+00 - val_accuracy: 0.6000\n",
            "Epoch 2/20\n",
            "6/6 [==============================] - 0s 4ms/step - loss: 0.0000e+00 - accuracy: 0.4833 - val_loss: 0.0000e+00 - val_accuracy: 0.6000\n",
            "Epoch 3/20\n",
            "6/6 [==============================] - 0s 4ms/step - loss: 0.0000e+00 - accuracy: 0.4833 - val_loss: 0.0000e+00 - val_accuracy: 0.6000\n",
            "Epoch 4/20\n",
            "6/6 [==============================] - 0s 4ms/step - loss: 0.0000e+00 - accuracy: 0.4833 - val_loss: 0.0000e+00 - val_accuracy: 0.6000\n",
            "Epoch 5/20\n",
            "6/6 [==============================] - 0s 4ms/step - loss: 0.0000e+00 - accuracy: 0.4833 - val_loss: 0.0000e+00 - val_accuracy: 0.6000\n",
            "Epoch 6/20\n",
            "6/6 [==============================] - 0s 4ms/step - loss: 0.0000e+00 - accuracy: 0.4833 - val_loss: 0.0000e+00 - val_accuracy: 0.6000\n",
            "Epoch 7/20\n",
            "6/6 [==============================] - 0s 4ms/step - loss: 0.0000e+00 - accuracy: 0.4833 - val_loss: 0.0000e+00 - val_accuracy: 0.6000\n",
            "Epoch 8/20\n",
            "6/6 [==============================] - 0s 4ms/step - loss: 0.0000e+00 - accuracy: 0.4833 - val_loss: 0.0000e+00 - val_accuracy: 0.6000\n",
            "Epoch 9/20\n",
            "6/6 [==============================] - 0s 4ms/step - loss: 0.0000e+00 - accuracy: 0.4833 - val_loss: 0.0000e+00 - val_accuracy: 0.6000\n",
            "Epoch 10/20\n",
            "6/6 [==============================] - 0s 4ms/step - loss: 0.0000e+00 - accuracy: 0.4833 - val_loss: 0.0000e+00 - val_accuracy: 0.6000\n",
            "Epoch 11/20\n",
            "6/6 [==============================] - 0s 6ms/step - loss: 0.0000e+00 - accuracy: 0.4833 - val_loss: 0.0000e+00 - val_accuracy: 0.6000\n",
            "Epoch 12/20\n",
            "6/6 [==============================] - 0s 4ms/step - loss: 0.0000e+00 - accuracy: 0.4833 - val_loss: 0.0000e+00 - val_accuracy: 0.6000\n",
            "Epoch 13/20\n",
            "6/6 [==============================] - 0s 5ms/step - loss: 0.0000e+00 - accuracy: 0.4833 - val_loss: 0.0000e+00 - val_accuracy: 0.6000\n",
            "Epoch 14/20\n",
            "6/6 [==============================] - 0s 4ms/step - loss: 0.0000e+00 - accuracy: 0.4833 - val_loss: 0.0000e+00 - val_accuracy: 0.6000\n",
            "Epoch 15/20\n",
            "6/6 [==============================] - 0s 4ms/step - loss: 0.0000e+00 - accuracy: 0.4833 - val_loss: 0.0000e+00 - val_accuracy: 0.6000\n",
            "Epoch 16/20\n",
            "6/6 [==============================] - 0s 4ms/step - loss: 0.0000e+00 - accuracy: 0.4833 - val_loss: 0.0000e+00 - val_accuracy: 0.6000\n",
            "Epoch 17/20\n",
            "6/6 [==============================] - 0s 4ms/step - loss: 0.0000e+00 - accuracy: 0.4833 - val_loss: 0.0000e+00 - val_accuracy: 0.6000\n",
            "Epoch 18/20\n",
            "6/6 [==============================] - 0s 4ms/step - loss: 0.0000e+00 - accuracy: 0.4833 - val_loss: 0.0000e+00 - val_accuracy: 0.6000\n",
            "Epoch 19/20\n",
            "6/6 [==============================] - 0s 4ms/step - loss: 0.0000e+00 - accuracy: 0.4833 - val_loss: 0.0000e+00 - val_accuracy: 0.6000\n",
            "Epoch 20/20\n",
            "6/6 [==============================] - 0s 5ms/step - loss: 0.0000e+00 - accuracy: 0.4833 - val_loss: 0.0000e+00 - val_accuracy: 0.6000\n"
          ],
          "name": "stdout"
        }
      ]
    },
    {
      "cell_type": "code",
      "metadata": {
        "id": "lHbYIVhJ9c4G",
        "outputId": "c3e4712c-8121-4c9f-a9f7-78dd9f62972e",
        "colab": {
          "base_uri": "https://localhost:8080/",
          "height": 51
        }
      },
      "source": [
        "model.evaluate(x = X_test, y = y_test)"
      ],
      "execution_count": null,
      "outputs": [
        {
          "output_type": "stream",
          "text": [
            "1/1 [==============================] - 0s 1ms/step - loss: 0.0000e+00 - accuracy: 0.4800\n"
          ],
          "name": "stdout"
        },
        {
          "output_type": "execute_result",
          "data": {
            "text/plain": [
              "[0.0, 0.47999998927116394]"
            ]
          },
          "metadata": {
            "tags": []
          },
          "execution_count": 123
        }
      ]
    },
    {
      "cell_type": "markdown",
      "metadata": {
        "id": "T9Ma6eresGFc"
      },
      "source": [
        "Test loss: 0.0\n",
        "Test accuracy: 0.479"
      ]
    },
    {
      "cell_type": "markdown",
      "metadata": {
        "id": "deQpZ3ZLr17K"
      },
      "source": [
        "## 【問題4】Iris（多値分類）をKerasで学習"
      ]
    },
    {
      "cell_type": "code",
      "metadata": {
        "id": "2y34XE_rtA4r"
      },
      "source": [
        "import time\n",
        "import tensorflow as tf\n",
        "from tensorflow.keras import backend as K\n",
        "import numpy as np\n",
        "import pandas as pd\n",
        "import matplotlib.pyplot as plt"
      ],
      "execution_count": 1,
      "outputs": []
    },
    {
      "cell_type": "code",
      "metadata": {
        "id": "VPKKC1JC1V_4"
      },
      "source": [
        "from sklearn.preprocessing import OneHotEncoder\n",
        "\n",
        "# データセットの読み込み\n",
        "dataset_path =\"/content/drive/My Drive/DIC/dataset/datasets_19_420_Iris.csv\"\n",
        "df = pd.read_csv(dataset_path)\n",
        "# データフレームから条件抽出\n",
        "y = df[\"Species\"]\n",
        "X = df.loc[:, [\"SepalLengthCm\", \"SepalWidthCm\", \"PetalLengthCm\", \"PetalWidthCm\"]]\n",
        "y = np.array(y)\n",
        "X = np.array(X)\n",
        "# ラベルをone-hotに変換\n",
        "enc = OneHotEncoder(handle_unknown='ignore', sparse=False)\n",
        "y = enc.fit_transform(y[:, np.newaxis])\n",
        "# trainとtestに分割\n",
        "X_train, X_test, y_train, y_test = train_test_split(X, y, test_size=0.2, random_state=0)\n",
        "# さらにtrainとvalに分割\n",
        "X_train, X_val, y_train, y_val = train_test_split(X_train, y_train, test_size=0.2, random_state=0)"
      ],
      "execution_count": 6,
      "outputs": []
    },
    {
      "cell_type": "code",
      "metadata": {
        "id": "9RUyGpgfs7Xu",
        "outputId": "364b0b7a-876d-4abf-f6e5-ba6818e8dff2",
        "colab": {
          "base_uri": "https://localhost:8080/",
          "height": 255
        }
      },
      "source": [
        "K.clear_session()\n",
        "\n",
        "model = tf.keras.Sequential()\n",
        "model.add(tf.keras.layers.Dense(16, activation=tf.nn.relu, input_shape=(4,)))\n",
        "model.add(tf.keras.layers.Dense(8, activation=tf.nn.relu))\n",
        "model.add(tf.keras.layers.Dense(3, activation=tf.nn.softmax))\n",
        "\n",
        "model.summary()"
      ],
      "execution_count": 13,
      "outputs": [
        {
          "output_type": "stream",
          "text": [
            "Model: \"sequential\"\n",
            "_________________________________________________________________\n",
            "Layer (type)                 Output Shape              Param #   \n",
            "=================================================================\n",
            "dense (Dense)                (None, 16)                80        \n",
            "_________________________________________________________________\n",
            "dense_1 (Dense)              (None, 8)                 136       \n",
            "_________________________________________________________________\n",
            "dense_2 (Dense)              (None, 3)                 27        \n",
            "=================================================================\n",
            "Total params: 243\n",
            "Trainable params: 243\n",
            "Non-trainable params: 0\n",
            "_________________________________________________________________\n"
          ],
          "name": "stdout"
        }
      ]
    },
    {
      "cell_type": "code",
      "metadata": {
        "id": "Z-3FYUggtD6L",
        "outputId": "63c87355-bead-4aad-ee32-527bf80d2900",
        "colab": {
          "base_uri": "https://localhost:8080/",
          "height": 1000
        }
      },
      "source": [
        "start = time.time()\n",
        "model.compile(loss='categorical_crossentropy',\n",
        "              optimizer=tf.compat.v1.train.AdamOptimizer(learning_rate=0.01),\n",
        "              metrics=['accuracy'])\n",
        "\n",
        "history = model.fit(X_train, y_train,\n",
        "                    batch_size=10,\n",
        "                    epochs=50,\n",
        "                    verbose=2,\n",
        "                    validation_data=(X_val, y_val))\n",
        "end = time.time()\n",
        "print('wall time: {:.4f}sec'.format(end-start))\n",
        "\n",
        "score = model.evaluate(X_test, y_test, verbose=0)\n",
        "print('\\nTest loss:', score[0])\n",
        "print('Test accuracy:', score[1])"
      ],
      "execution_count": 15,
      "outputs": [
        {
          "output_type": "stream",
          "text": [
            "Epoch 1/50\n",
            "10/10 - 0s - loss: 1.3858 - accuracy: 0.4583 - val_loss: 1.0253 - val_accuracy: 0.7083\n",
            "Epoch 2/50\n",
            "10/10 - 0s - loss: 0.9359 - accuracy: 0.6875 - val_loss: 0.8029 - val_accuracy: 0.7083\n",
            "Epoch 3/50\n",
            "10/10 - 0s - loss: 0.7575 - accuracy: 0.6979 - val_loss: 0.6654 - val_accuracy: 0.7083\n",
            "Epoch 4/50\n",
            "10/10 - 0s - loss: 0.6003 - accuracy: 0.7188 - val_loss: 0.5113 - val_accuracy: 0.7083\n",
            "Epoch 5/50\n",
            "10/10 - 0s - loss: 0.4952 - accuracy: 0.6875 - val_loss: 0.4571 - val_accuracy: 0.7083\n",
            "Epoch 6/50\n",
            "10/10 - 0s - loss: 0.4408 - accuracy: 0.8021 - val_loss: 0.4359 - val_accuracy: 0.7917\n",
            "Epoch 7/50\n",
            "10/10 - 0s - loss: 0.3891 - accuracy: 0.8125 - val_loss: 0.3942 - val_accuracy: 0.7083\n",
            "Epoch 8/50\n",
            "10/10 - 0s - loss: 0.3423 - accuracy: 0.8958 - val_loss: 0.3649 - val_accuracy: 0.9167\n",
            "Epoch 9/50\n",
            "10/10 - 0s - loss: 0.3129 - accuracy: 0.9167 - val_loss: 0.3308 - val_accuracy: 0.9167\n",
            "Epoch 10/50\n",
            "10/10 - 0s - loss: 0.2499 - accuracy: 0.9479 - val_loss: 0.3818 - val_accuracy: 0.7500\n",
            "Epoch 11/50\n",
            "10/10 - 0s - loss: 0.2473 - accuracy: 0.9167 - val_loss: 0.2593 - val_accuracy: 0.9167\n",
            "Epoch 12/50\n",
            "10/10 - 0s - loss: 0.1816 - accuracy: 0.9375 - val_loss: 0.2440 - val_accuracy: 0.9583\n",
            "Epoch 13/50\n",
            "10/10 - 0s - loss: 0.1471 - accuracy: 0.9583 - val_loss: 0.2847 - val_accuracy: 0.8750\n",
            "Epoch 14/50\n",
            "10/10 - 0s - loss: 0.1591 - accuracy: 0.9792 - val_loss: 0.2236 - val_accuracy: 0.9167\n",
            "Epoch 15/50\n",
            "10/10 - 0s - loss: 0.1110 - accuracy: 0.9896 - val_loss: 0.2385 - val_accuracy: 0.9167\n",
            "Epoch 16/50\n",
            "10/10 - 0s - loss: 0.1165 - accuracy: 0.9583 - val_loss: 0.2000 - val_accuracy: 0.9167\n",
            "Epoch 17/50\n",
            "10/10 - 0s - loss: 0.1160 - accuracy: 0.9479 - val_loss: 0.2113 - val_accuracy: 0.8333\n",
            "Epoch 18/50\n",
            "10/10 - 0s - loss: 0.0969 - accuracy: 0.9688 - val_loss: 0.1848 - val_accuracy: 0.9167\n",
            "Epoch 19/50\n",
            "10/10 - 0s - loss: 0.1021 - accuracy: 0.9688 - val_loss: 0.5973 - val_accuracy: 0.7500\n",
            "Epoch 20/50\n",
            "10/10 - 0s - loss: 0.1522 - accuracy: 0.8854 - val_loss: 0.2822 - val_accuracy: 0.9167\n",
            "Epoch 21/50\n",
            "10/10 - 0s - loss: 0.1022 - accuracy: 0.9583 - val_loss: 0.1785 - val_accuracy: 0.9167\n",
            "Epoch 22/50\n",
            "10/10 - 0s - loss: 0.0662 - accuracy: 0.9792 - val_loss: 0.1769 - val_accuracy: 0.9167\n",
            "Epoch 23/50\n",
            "10/10 - 0s - loss: 0.0648 - accuracy: 1.0000 - val_loss: 0.2899 - val_accuracy: 0.9167\n",
            "Epoch 24/50\n",
            "10/10 - 0s - loss: 0.0840 - accuracy: 0.9583 - val_loss: 0.1759 - val_accuracy: 0.9167\n",
            "Epoch 25/50\n",
            "10/10 - 0s - loss: 0.0579 - accuracy: 0.9792 - val_loss: 0.2348 - val_accuracy: 0.9167\n",
            "Epoch 26/50\n",
            "10/10 - 0s - loss: 0.0900 - accuracy: 0.9583 - val_loss: 0.2099 - val_accuracy: 0.9167\n",
            "Epoch 27/50\n",
            "10/10 - 0s - loss: 0.0690 - accuracy: 0.9688 - val_loss: 0.1731 - val_accuracy: 0.9167\n",
            "Epoch 28/50\n",
            "10/10 - 0s - loss: 0.0503 - accuracy: 1.0000 - val_loss: 0.2334 - val_accuracy: 0.9167\n",
            "Epoch 29/50\n",
            "10/10 - 0s - loss: 0.0619 - accuracy: 0.9688 - val_loss: 0.3748 - val_accuracy: 0.9167\n",
            "Epoch 30/50\n",
            "10/10 - 0s - loss: 0.1036 - accuracy: 0.9375 - val_loss: 0.1787 - val_accuracy: 0.9167\n",
            "Epoch 31/50\n",
            "10/10 - 0s - loss: 0.0563 - accuracy: 0.9792 - val_loss: 0.1798 - val_accuracy: 0.9167\n",
            "Epoch 32/50\n",
            "10/10 - 0s - loss: 0.0462 - accuracy: 0.9896 - val_loss: 0.1801 - val_accuracy: 0.9167\n",
            "Epoch 33/50\n",
            "10/10 - 0s - loss: 0.0485 - accuracy: 0.9896 - val_loss: 0.2163 - val_accuracy: 0.9167\n",
            "Epoch 34/50\n",
            "10/10 - 0s - loss: 0.0500 - accuracy: 0.9896 - val_loss: 0.2211 - val_accuracy: 0.9167\n",
            "Epoch 35/50\n",
            "10/10 - 0s - loss: 0.0474 - accuracy: 0.9792 - val_loss: 0.2044 - val_accuracy: 0.9167\n",
            "Epoch 36/50\n",
            "10/10 - 0s - loss: 0.0479 - accuracy: 0.9896 - val_loss: 0.2088 - val_accuracy: 0.9167\n",
            "Epoch 37/50\n",
            "10/10 - 0s - loss: 0.0482 - accuracy: 0.9792 - val_loss: 0.1697 - val_accuracy: 0.9583\n",
            "Epoch 38/50\n",
            "10/10 - 0s - loss: 0.0468 - accuracy: 0.9792 - val_loss: 0.2105 - val_accuracy: 0.9167\n",
            "Epoch 39/50\n",
            "10/10 - 0s - loss: 0.0386 - accuracy: 0.9896 - val_loss: 0.2622 - val_accuracy: 0.9167\n",
            "Epoch 40/50\n",
            "10/10 - 0s - loss: 0.0417 - accuracy: 0.9792 - val_loss: 0.2557 - val_accuracy: 0.8750\n",
            "Epoch 41/50\n",
            "10/10 - 0s - loss: 0.0866 - accuracy: 0.9583 - val_loss: 0.1717 - val_accuracy: 0.9167\n",
            "Epoch 42/50\n",
            "10/10 - 0s - loss: 0.0506 - accuracy: 0.9896 - val_loss: 0.5437 - val_accuracy: 0.8750\n",
            "Epoch 43/50\n",
            "10/10 - 0s - loss: 0.1085 - accuracy: 0.9479 - val_loss: 0.1703 - val_accuracy: 0.9167\n",
            "Epoch 44/50\n",
            "10/10 - 0s - loss: 0.0651 - accuracy: 0.9792 - val_loss: 0.2010 - val_accuracy: 0.8333\n",
            "Epoch 45/50\n",
            "10/10 - 0s - loss: 0.0985 - accuracy: 0.9479 - val_loss: 0.3115 - val_accuracy: 0.9167\n",
            "Epoch 46/50\n",
            "10/10 - 0s - loss: 0.0758 - accuracy: 0.9583 - val_loss: 0.3322 - val_accuracy: 0.9167\n",
            "Epoch 47/50\n",
            "10/10 - 0s - loss: 0.0897 - accuracy: 0.9479 - val_loss: 0.1709 - val_accuracy: 0.9167\n",
            "Epoch 48/50\n",
            "10/10 - 0s - loss: 0.0445 - accuracy: 0.9896 - val_loss: 0.2537 - val_accuracy: 0.9167\n",
            "Epoch 49/50\n",
            "10/10 - 0s - loss: 0.0409 - accuracy: 0.9792 - val_loss: 0.1801 - val_accuracy: 0.9167\n",
            "Epoch 50/50\n",
            "10/10 - 0s - loss: 0.0406 - accuracy: 0.9896 - val_loss: 0.2780 - val_accuracy: 0.9167\n",
            "wall time: 4.3390sec\n",
            "\n",
            "Test loss: 0.03406842052936554\n",
            "Test accuracy: 1.0\n"
          ],
          "name": "stdout"
        }
      ]
    },
    {
      "cell_type": "markdown",
      "metadata": {
        "id": "urbO7d4Dth_q"
      },
      "source": [
        "## 【問題5】House PricesをKerasで学習"
      ]
    },
    {
      "cell_type": "code",
      "metadata": {
        "id": "9oxJKlv_tkXO"
      },
      "source": [
        "from sklearn.preprocessing import StandardScaler\n",
        "\n",
        "house_data = pd.read_csv('/content/drive/My Drive/DIC/dataset/House_Prices/house_prices_train.csv')\n",
        "\n",
        "#GrLivArea、YearBuilt、SalePriceを抽出\n",
        "train = house_data.loc[:, ['GrLivArea', 'YearBuilt', 'SalePrice']]\n",
        "\n",
        "# DataFrameをndarrayに変換\n",
        "X = np.array(train.iloc[:, :-1])\n",
        "y = np.array(train.iloc[:, -1])[:,None]\n",
        "\n",
        "# 特徴量を標準化\n",
        "scaler = StandardScaler()\n",
        "X = scaler.fit_transform(X)\n",
        "# 目的変数を対数変換\n",
        "y = np.log1p(y)\n",
        "\n",
        "# trainとtestに分割\n",
        "X_train, X_test, y_train, y_test = train_test_split(X, y, test_size=0.2, random_state=0)\n",
        "# さらにtrainとvalに分割\n",
        "X_train, X_val, y_train, y_val = train_test_split(X_train, y_train, test_size=0.2, random_state=0)"
      ],
      "execution_count": 17,
      "outputs": []
    },
    {
      "cell_type": "code",
      "metadata": {
        "id": "6yhneXt8uxcx",
        "outputId": "8ac8ecdd-ae3f-44dc-c942-b930814a7f75",
        "colab": {
          "base_uri": "https://localhost:8080/",
          "height": 289
        }
      },
      "source": [
        "K.clear_session()\n",
        "\n",
        "input_data = tf.keras.layers.Input(shape=(2,))\n",
        "\n",
        "l = tf.keras.layers.Dense(10, activation=tf.nn.relu)(input_data)\n",
        "l = tf.keras.layers.Dense(10, activation=tf.nn.relu)(l)\n",
        "output = tf.keras.layers.Dense(1, activation=tf.nn.relu)(l)\n",
        "\n",
        "model = tf.keras.Model(input_data, output)\n",
        "\n",
        "model.summary()"
      ],
      "execution_count": 18,
      "outputs": [
        {
          "output_type": "stream",
          "text": [
            "Model: \"functional_1\"\n",
            "_________________________________________________________________\n",
            "Layer (type)                 Output Shape              Param #   \n",
            "=================================================================\n",
            "input_1 (InputLayer)         [(None, 2)]               0         \n",
            "_________________________________________________________________\n",
            "dense (Dense)                (None, 10)                30        \n",
            "_________________________________________________________________\n",
            "dense_1 (Dense)              (None, 10)                110       \n",
            "_________________________________________________________________\n",
            "dense_2 (Dense)              (None, 1)                 11        \n",
            "=================================================================\n",
            "Total params: 151\n",
            "Trainable params: 151\n",
            "Non-trainable params: 0\n",
            "_________________________________________________________________\n"
          ],
          "name": "stdout"
        }
      ]
    },
    {
      "cell_type": "code",
      "metadata": {
        "id": "hIJDHtzxuzhY",
        "outputId": "5d8d4f4e-3d64-4841-c0bc-a595a859b389",
        "colab": {
          "base_uri": "https://localhost:8080/",
          "height": 1000
        }
      },
      "source": [
        "start = time.time()\n",
        "model.compile(loss='mean_squared_error',\n",
        "              optimizer=tf.compat.v1.train.AdamOptimizer(learning_rate=0.01),\n",
        "              metrics=['mse'])\n",
        "\n",
        "history = model.fit(X_train, y_train,\n",
        "                    batch_size=10,\n",
        "                    epochs=50,\n",
        "                    verbose=2,\n",
        "                    validation_data=(X_val, y_val))\n",
        "end = time.time()\n",
        "print('wall time: {:.4f}sec'.format(end-start))\n",
        "\n",
        "score = model.evaluate(X_test, y_test, verbose=0)\n",
        "print('\\nTest loss:', score[0])"
      ],
      "execution_count": 20,
      "outputs": [
        {
          "output_type": "stream",
          "text": [
            "Epoch 1/50\n",
            "94/94 - 0s - loss: 37.9790 - mse: 37.9790 - val_loss: 2.2050 - val_mse: 2.2050\n",
            "Epoch 2/50\n",
            "94/94 - 0s - loss: 1.8309 - mse: 1.8309 - val_loss: 0.6570 - val_mse: 0.6570\n",
            "Epoch 3/50\n",
            "94/94 - 0s - loss: 0.5771 - mse: 0.5771 - val_loss: 0.2269 - val_mse: 0.2269\n",
            "Epoch 4/50\n",
            "94/94 - 0s - loss: 0.2706 - mse: 0.2706 - val_loss: 0.1151 - val_mse: 0.1151\n",
            "Epoch 5/50\n",
            "94/94 - 0s - loss: 0.1631 - mse: 0.1631 - val_loss: 0.0743 - val_mse: 0.0743\n",
            "Epoch 6/50\n",
            "94/94 - 0s - loss: 0.1057 - mse: 0.1057 - val_loss: 0.0734 - val_mse: 0.0734\n",
            "Epoch 7/50\n",
            "94/94 - 0s - loss: 0.0764 - mse: 0.0764 - val_loss: 0.0558 - val_mse: 0.0558\n",
            "Epoch 8/50\n",
            "94/94 - 0s - loss: 0.0655 - mse: 0.0655 - val_loss: 0.0464 - val_mse: 0.0464\n",
            "Epoch 9/50\n",
            "94/94 - 0s - loss: 0.0637 - mse: 0.0637 - val_loss: 0.0473 - val_mse: 0.0473\n",
            "Epoch 10/50\n",
            "94/94 - 0s - loss: 0.0598 - mse: 0.0598 - val_loss: 0.0569 - val_mse: 0.0569\n",
            "Epoch 11/50\n",
            "94/94 - 0s - loss: 0.0575 - mse: 0.0575 - val_loss: 0.0512 - val_mse: 0.0512\n",
            "Epoch 12/50\n",
            "94/94 - 0s - loss: 0.0534 - mse: 0.0534 - val_loss: 0.0460 - val_mse: 0.0460\n",
            "Epoch 13/50\n",
            "94/94 - 0s - loss: 0.0574 - mse: 0.0574 - val_loss: 0.0418 - val_mse: 0.0418\n",
            "Epoch 14/50\n",
            "94/94 - 0s - loss: 0.0558 - mse: 0.0558 - val_loss: 0.0464 - val_mse: 0.0464\n",
            "Epoch 15/50\n",
            "94/94 - 0s - loss: 0.0540 - mse: 0.0540 - val_loss: 0.0534 - val_mse: 0.0534\n",
            "Epoch 16/50\n",
            "94/94 - 0s - loss: 0.0552 - mse: 0.0552 - val_loss: 0.0458 - val_mse: 0.0458\n",
            "Epoch 17/50\n",
            "94/94 - 0s - loss: 0.0573 - mse: 0.0573 - val_loss: 0.0560 - val_mse: 0.0560\n",
            "Epoch 18/50\n",
            "94/94 - 0s - loss: 0.0601 - mse: 0.0601 - val_loss: 0.0458 - val_mse: 0.0458\n",
            "Epoch 19/50\n",
            "94/94 - 0s - loss: 0.0514 - mse: 0.0514 - val_loss: 0.0600 - val_mse: 0.0600\n",
            "Epoch 20/50\n",
            "94/94 - 0s - loss: 0.0606 - mse: 0.0606 - val_loss: 0.0480 - val_mse: 0.0480\n",
            "Epoch 21/50\n",
            "94/94 - 0s - loss: 0.0668 - mse: 0.0668 - val_loss: 0.0449 - val_mse: 0.0449\n",
            "Epoch 22/50\n",
            "94/94 - 0s - loss: 0.0615 - mse: 0.0615 - val_loss: 0.0702 - val_mse: 0.0702\n",
            "Epoch 23/50\n",
            "94/94 - 0s - loss: 0.0602 - mse: 0.0602 - val_loss: 0.0593 - val_mse: 0.0593\n",
            "Epoch 24/50\n",
            "94/94 - 0s - loss: 0.0747 - mse: 0.0747 - val_loss: 0.0596 - val_mse: 0.0596\n",
            "Epoch 25/50\n",
            "94/94 - 0s - loss: 0.0772 - mse: 0.0772 - val_loss: 0.0910 - val_mse: 0.0910\n",
            "Epoch 26/50\n",
            "94/94 - 0s - loss: 0.0651 - mse: 0.0651 - val_loss: 0.0870 - val_mse: 0.0870\n",
            "Epoch 27/50\n",
            "94/94 - 0s - loss: 0.0556 - mse: 0.0556 - val_loss: 0.0508 - val_mse: 0.0508\n",
            "Epoch 28/50\n",
            "94/94 - 0s - loss: 0.0615 - mse: 0.0615 - val_loss: 0.0682 - val_mse: 0.0682\n",
            "Epoch 29/50\n",
            "94/94 - 0s - loss: 0.0642 - mse: 0.0642 - val_loss: 0.1015 - val_mse: 0.1015\n",
            "Epoch 30/50\n",
            "94/94 - 0s - loss: 0.0615 - mse: 0.0615 - val_loss: 0.0526 - val_mse: 0.0526\n",
            "Epoch 31/50\n",
            "94/94 - 0s - loss: 0.0649 - mse: 0.0649 - val_loss: 0.0602 - val_mse: 0.0602\n",
            "Epoch 32/50\n",
            "94/94 - 0s - loss: 0.0682 - mse: 0.0682 - val_loss: 0.0928 - val_mse: 0.0928\n",
            "Epoch 33/50\n",
            "94/94 - 0s - loss: 0.0680 - mse: 0.0680 - val_loss: 0.0434 - val_mse: 0.0434\n",
            "Epoch 34/50\n",
            "94/94 - 0s - loss: 0.0751 - mse: 0.0751 - val_loss: 0.0438 - val_mse: 0.0438\n",
            "Epoch 35/50\n",
            "94/94 - 0s - loss: 0.0626 - mse: 0.0626 - val_loss: 0.0443 - val_mse: 0.0443\n",
            "Epoch 36/50\n",
            "94/94 - 0s - loss: 0.0618 - mse: 0.0618 - val_loss: 0.0581 - val_mse: 0.0581\n",
            "Epoch 37/50\n",
            "94/94 - 0s - loss: 0.0690 - mse: 0.0690 - val_loss: 0.1030 - val_mse: 0.1030\n",
            "Epoch 38/50\n",
            "94/94 - 0s - loss: 0.0705 - mse: 0.0705 - val_loss: 0.0507 - val_mse: 0.0507\n",
            "Epoch 39/50\n",
            "94/94 - 0s - loss: 0.0619 - mse: 0.0619 - val_loss: 0.0805 - val_mse: 0.0805\n",
            "Epoch 40/50\n",
            "94/94 - 0s - loss: 0.0670 - mse: 0.0670 - val_loss: 0.0538 - val_mse: 0.0538\n",
            "Epoch 41/50\n",
            "94/94 - 0s - loss: 0.0593 - mse: 0.0593 - val_loss: 0.0418 - val_mse: 0.0418\n",
            "Epoch 42/50\n",
            "94/94 - 0s - loss: 0.0726 - mse: 0.0726 - val_loss: 0.0460 - val_mse: 0.0460\n",
            "Epoch 43/50\n",
            "94/94 - 0s - loss: 0.0662 - mse: 0.0662 - val_loss: 0.0789 - val_mse: 0.0789\n",
            "Epoch 44/50\n",
            "94/94 - 0s - loss: 0.0695 - mse: 0.0695 - val_loss: 0.1480 - val_mse: 0.1480\n",
            "Epoch 45/50\n",
            "94/94 - 0s - loss: 0.0690 - mse: 0.0690 - val_loss: 0.0700 - val_mse: 0.0700\n",
            "Epoch 46/50\n",
            "94/94 - 0s - loss: 0.0640 - mse: 0.0640 - val_loss: 0.0424 - val_mse: 0.0424\n",
            "Epoch 47/50\n",
            "94/94 - 0s - loss: 0.0607 - mse: 0.0607 - val_loss: 0.0489 - val_mse: 0.0489\n",
            "Epoch 48/50\n",
            "94/94 - 0s - loss: 0.0609 - mse: 0.0609 - val_loss: 0.0500 - val_mse: 0.0500\n",
            "Epoch 49/50\n",
            "94/94 - 0s - loss: 0.0878 - mse: 0.0878 - val_loss: 0.0833 - val_mse: 0.0833\n",
            "Epoch 50/50\n",
            "94/94 - 0s - loss: 0.0709 - mse: 0.0709 - val_loss: 0.0494 - val_mse: 0.0494\n",
            "wall time: 11.5971sec\n",
            "\n",
            "Test loss: 0.06441975384950638\n"
          ],
          "name": "stdout"
        }
      ]
    },
    {
      "cell_type": "markdown",
      "metadata": {
        "id": "CZX-dVAZu91K"
      },
      "source": [
        "## 【問題6】MNISTをKerasで学習"
      ]
    },
    {
      "cell_type": "code",
      "metadata": {
        "id": "QoXGWuk6u9fy"
      },
      "source": [
        "#《データセットをダウンロードするコード》\n",
        "from keras.datasets import mnist\n",
        "(X_train, y_train), (X_test, y_test) = mnist.load_data()\n",
        "X_train = X_train.astype(np.float)\n",
        "X_test = X_test.astype(np.float)\n",
        "X_train /= 255\n",
        "X_test /= 255\n",
        "\n",
        "X_train = X_train[:,:,:,None]  # NHWC\n",
        "X_test = X_test[:,:,:,None]  # NHWC\n",
        "\n",
        "enc = OneHotEncoder(handle_unknown='ignore', sparse=False)\n",
        "y_train = enc.fit_transform(y_train[:, np.newaxis])\n",
        "y_test = enc.transform(y_test[:, np.newaxis])\n",
        "\n",
        "# trainとvalに分割\n",
        "X_train, X_val, y_train, y_val = train_test_split(X_train, y_train, test_size=0.2, random_state=0)"
      ],
      "execution_count": 7,
      "outputs": []
    },
    {
      "cell_type": "code",
      "metadata": {
        "id": "J2nBwH9AvB19",
        "outputId": "337316da-a304-44e7-8b26-59c209f90ed6",
        "colab": {
          "base_uri": "https://localhost:8080/",
          "height": 391
        }
      },
      "source": [
        "K.clear_session()\n",
        "\n",
        "input_data = tf.keras.layers.Input(shape=(28,28,1))  # channels last\n",
        "\n",
        "l = tf.keras.layers.Conv2D(8, (3,3), padding='valid', activation=tf.nn.relu)(input_data)\n",
        "l = tf.keras.layers.MaxPool2D((3,3), padding='same')(l)\n",
        "l = tf.keras.layers.Conv2D(16, (3,3), padding='valid', activation=tf.nn.relu)(l)\n",
        "l = tf.keras.layers.MaxPool2D((3,3), padding='same')(l)\n",
        "l = tf.keras.layers.Flatten()(l)\n",
        "output = tf.keras.layers.Dense(10, activation=tf.nn.softmax)(l)\n",
        "\n",
        "model = tf.keras.Model(input_data, output)\n",
        "\n",
        "model.summary()"
      ],
      "execution_count": 8,
      "outputs": [
        {
          "output_type": "stream",
          "text": [
            "Model: \"functional_1\"\n",
            "_________________________________________________________________\n",
            "Layer (type)                 Output Shape              Param #   \n",
            "=================================================================\n",
            "input_1 (InputLayer)         [(None, 28, 28, 1)]       0         \n",
            "_________________________________________________________________\n",
            "conv2d (Conv2D)              (None, 26, 26, 8)         80        \n",
            "_________________________________________________________________\n",
            "max_pooling2d (MaxPooling2D) (None, 9, 9, 8)           0         \n",
            "_________________________________________________________________\n",
            "conv2d_1 (Conv2D)            (None, 7, 7, 16)          1168      \n",
            "_________________________________________________________________\n",
            "max_pooling2d_1 (MaxPooling2 (None, 3, 3, 16)          0         \n",
            "_________________________________________________________________\n",
            "flatten (Flatten)            (None, 144)               0         \n",
            "_________________________________________________________________\n",
            "dense (Dense)                (None, 10)                1450      \n",
            "=================================================================\n",
            "Total params: 2,698\n",
            "Trainable params: 2,698\n",
            "Non-trainable params: 0\n",
            "_________________________________________________________________\n"
          ],
          "name": "stdout"
        }
      ]
    },
    {
      "cell_type": "code",
      "metadata": {
        "id": "x7FzMMBuvFhS",
        "outputId": "9735baba-7998-4d17-f9f5-0a96b949f3c5",
        "colab": {
          "base_uri": "https://localhost:8080/",
          "height": 765
        }
      },
      "source": [
        "start = time.time()\n",
        "model.compile(loss='categorical_crossentropy',\n",
        "              optimizer=tf.compat.v1.train.AdamOptimizer(learning_rate=0.01),\n",
        "              metrics=['accuracy'])\n",
        "\n",
        "history = model.fit(X_train, y_train,\n",
        "                    batch_size=20,\n",
        "                    epochs=20,\n",
        "                    verbose=2,\n",
        "                    validation_data=(X_val, y_val))\n",
        "end = time.time()\n",
        "print('wall time: {:.4f}sec'.format(end-start))\n",
        "\n",
        "score = model.evaluate(X_test, y_test, verbose=0)\n",
        "print('\\nTest loss:', score[0])\n",
        "print('Test accuracy:', score[1])"
      ],
      "execution_count": 9,
      "outputs": [
        {
          "output_type": "stream",
          "text": [
            "Epoch 1/20\n",
            "2400/2400 - 19s - loss: 0.1774 - accuracy: 0.9438 - val_loss: 0.0944 - val_accuracy: 0.9698\n",
            "Epoch 2/20\n",
            "2400/2400 - 18s - loss: 0.0935 - accuracy: 0.9720 - val_loss: 0.1038 - val_accuracy: 0.9696\n",
            "Epoch 3/20\n",
            "2400/2400 - 18s - loss: 0.0879 - accuracy: 0.9729 - val_loss: 0.1052 - val_accuracy: 0.9685\n",
            "Epoch 4/20\n",
            "2400/2400 - 18s - loss: 0.0849 - accuracy: 0.9747 - val_loss: 0.1007 - val_accuracy: 0.9718\n",
            "Epoch 5/20\n",
            "2400/2400 - 17s - loss: 0.0822 - accuracy: 0.9754 - val_loss: 0.1028 - val_accuracy: 0.9732\n",
            "Epoch 6/20\n",
            "2400/2400 - 18s - loss: 0.0845 - accuracy: 0.9753 - val_loss: 0.0763 - val_accuracy: 0.9768\n",
            "Epoch 7/20\n",
            "2400/2400 - 18s - loss: 0.0799 - accuracy: 0.9766 - val_loss: 0.0818 - val_accuracy: 0.9787\n",
            "Epoch 8/20\n",
            "2400/2400 - 18s - loss: 0.0810 - accuracy: 0.9773 - val_loss: 0.0847 - val_accuracy: 0.9738\n",
            "Epoch 9/20\n",
            "2400/2400 - 19s - loss: 0.0801 - accuracy: 0.9759 - val_loss: 0.1061 - val_accuracy: 0.9703\n",
            "Epoch 10/20\n",
            "2400/2400 - 18s - loss: 0.0822 - accuracy: 0.9768 - val_loss: 0.0977 - val_accuracy: 0.9751\n",
            "Epoch 11/20\n",
            "2400/2400 - 18s - loss: 0.0783 - accuracy: 0.9776 - val_loss: 0.1684 - val_accuracy: 0.9603\n",
            "Epoch 12/20\n",
            "2400/2400 - 18s - loss: 0.0811 - accuracy: 0.9777 - val_loss: 0.0978 - val_accuracy: 0.9769\n",
            "Epoch 13/20\n",
            "2400/2400 - 18s - loss: 0.0782 - accuracy: 0.9781 - val_loss: 0.1256 - val_accuracy: 0.9707\n",
            "Epoch 14/20\n",
            "2400/2400 - 17s - loss: 0.0803 - accuracy: 0.9784 - val_loss: 0.1160 - val_accuracy: 0.9708\n",
            "Epoch 15/20\n",
            "2400/2400 - 17s - loss: 0.0788 - accuracy: 0.9777 - val_loss: 0.1239 - val_accuracy: 0.9703\n",
            "Epoch 16/20\n",
            "2400/2400 - 18s - loss: 0.0798 - accuracy: 0.9780 - val_loss: 0.1113 - val_accuracy: 0.9727\n",
            "Epoch 17/20\n",
            "2400/2400 - 18s - loss: 0.0802 - accuracy: 0.9769 - val_loss: 0.1017 - val_accuracy: 0.9749\n",
            "Epoch 18/20\n",
            "2400/2400 - 18s - loss: 0.0803 - accuracy: 0.9771 - val_loss: 0.1068 - val_accuracy: 0.9764\n",
            "Epoch 19/20\n",
            "2400/2400 - 18s - loss: 0.0777 - accuracy: 0.9790 - val_loss: 0.1140 - val_accuracy: 0.9753\n",
            "Epoch 20/20\n",
            "2400/2400 - 18s - loss: 0.0807 - accuracy: 0.9775 - val_loss: 0.1176 - val_accuracy: 0.9755\n",
            "wall time: 358.5152sec\n",
            "\n",
            "Test loss: 0.11236795783042908\n",
            "Test accuracy: 0.9768999814987183\n"
          ],
          "name": "stdout"
        }
      ]
    }
  ]
}