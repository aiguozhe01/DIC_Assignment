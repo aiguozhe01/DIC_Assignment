{
  "nbformat": 4,
  "nbformat_minor": 0,
  "metadata": {
    "kernelspec": {
      "display_name": "Python 3",
      "language": "python",
      "name": "python3"
    },
    "language_info": {
      "codemirror_mode": {
        "name": "ipython",
        "version": 3
      },
      "file_extension": ".py",
      "mimetype": "text/x-python",
      "name": "python",
      "nbconvert_exporter": "python",
      "pygments_lexer": "ipython3",
      "version": "3.7.7"
    },
    "colab": {
      "name": "Sprint_07.ipynb",
      "provenance": [],
      "collapsed_sections": [],
      "include_colab_link": true
    }
  },
  "cells": [
    {
      "cell_type": "markdown",
      "metadata": {
        "id": "view-in-github",
        "colab_type": "text"
      },
      "source": [
        "<a href=\"https://colab.research.google.com/github/aiguozhe01/DIC_Assignment/blob/master/Sprint_07.ipynb\" target=\"_parent\"><img src=\"https://colab.research.google.com/assets/colab-badge.svg\" alt=\"Open In Colab\"/></a>"
      ]
    },
    {
      "cell_type": "markdown",
      "metadata": {
        "id": "GkAVaYPqbE7h"
      },
      "source": [
        "# Sprint 機械学習スクラッチ　クラスタリング\n",
        "\n",
        "教師無し学習‐クラスタリング‐K-means（重心ベース）を理解して、NumPyなどを駆使してスクラッチする。\n",
        "\n",
        "* k個の重心を識別し、重心位置を最適化（平均値を最小化）する。\n",
        "* 上記を反復的に行い、すべてのデータ点を最も近接するクラスタに割り当てる。\n",
        "* クラスタ内の誤差平方和を削減することにより、すべてのデータ点が各クラスタに割り当てられる。"
      ]
    },
    {
      "cell_type": "code",
      "metadata": {
        "id": "Ppw-SS6HbE7h"
      },
      "source": [
        "import numpy as np\n",
        "from numpy import linalg as LA\n",
        "import pandas as pd\n",
        "import random\n",
        "import matplotlib.pyplot as plt\n",
        "from scipy import stats"
      ],
      "execution_count": 24,
      "outputs": []
    },
    {
      "cell_type": "code",
      "metadata": {
        "id": "rTnkmS69bUbc"
      },
      "source": [
        "# 《シンプルデータセット3》\n",
        "from sklearn.datasets import make_blobs\n",
        "X, _ = make_blobs(n_samples=100, n_features=2, centers=4, cluster_std=0.5, shuffle=True, random_state=0)"
      ],
      "execution_count": 2,
      "outputs": []
    },
    {
      "cell_type": "code",
      "metadata": {
        "id": "Vjdw3D-dbE7k"
      },
      "source": [
        "class ScratchKMeans():\n",
        "    \"\"\"\n",
        "    K-meansのスクラッチ実装\n",
        "\n",
        "    Parameters\n",
        "    ----------\n",
        "    n_clusters : int\n",
        "      クラスタ数\n",
        "    n_init : int\n",
        "      中心点の初期値を何回変えて計算するか\n",
        "    max_iter : int\n",
        "      1回の計算で最大何イテレーションするか\n",
        "    tol : float\n",
        "      イテレーションを終了する基準となる中心点と重心の許容誤差\n",
        "    verbose : bool\n",
        "      学習過程を出力する場合はTrue\n",
        "    \"\"\"\n",
        "    \n",
        "    def __init__(self, n_clusters, n_init, max_iter=None, tol=0, verbose=False):\n",
        "        # ハイパーパラメータを属性として記録\n",
        "        self.n_clusters = n_clusters\n",
        "        self.n_init = n_init\n",
        "        self.max_iter = max_iter\n",
        "        self.tol = tol\n",
        "        self.verbose = verbose\n",
        "    \n",
        "    \n",
        "    def _mu_init(self, X):\n",
        "        \"\"\"\n",
        "        *Objective*\n",
        "\n",
        "        Parameters\n",
        "        ----------\n",
        "\n",
        "        Returns\n",
        "        -------\n",
        "        \"\"\"\n",
        "    \n",
        "        mu = np.random.choice(len(X), self.n_clusters)\n",
        "\n",
        "        return X[mu]\n",
        "    \n",
        "    \n",
        "    def label_cluster(self, X, mu):\n",
        "        \"\"\"\n",
        "        *Objective*\n",
        "\n",
        "        Parameters\n",
        "        ----------\n",
        "\n",
        "        Returns\n",
        "        -------\n",
        "        \"\"\"\n",
        "        r = np.empty(len(X))\n",
        "\n",
        "        for n in range(len(X)):\n",
        "            dist = LA.norm((X[n] - mu), axis=1)\n",
        "            label = np.argmin(dist)\n",
        "            r[n] = label\n",
        "\n",
        "        return r\n",
        "    \n",
        "    \n",
        "    def _shift_center_mean(self, X, r):\n",
        "        \"\"\"\n",
        "        *Objective*\n",
        "\n",
        "        Parameters\n",
        "        ----------\n",
        "\n",
        "        Returns\n",
        "        -------\n",
        "        \"\"\"\n",
        "        k = len(np.unique(r))\n",
        "\n",
        "        mu = np.empty((k, len(X[0])))\n",
        "\n",
        "        for i in range(k):\n",
        "            batch = X[np.where(r == i)]\n",
        "            mu[i] = np.mean(batch, axis=0)\n",
        "\n",
        "        return mu\n",
        "\n",
        "    \n",
        "    def fit(self, X, return_sse=False, verbose=False):\n",
        "        \"\"\"\n",
        "        K-meansによるクラスタリングを計算\n",
        "        Parameters\n",
        "        ----------\n",
        "        X : 次の形のndarray, shape (n_samples, n_features)\n",
        "            訓練データの特徴量\n",
        "        \"\"\"\n",
        "\n",
        "        sse = 0\n",
        "\n",
        "        for i in range(self.n_init):\n",
        "\n",
        "            mu = self._mu_init(X)\n",
        "            r = self.label_cluster(X, mu)\n",
        "            iter_ = 0\n",
        "\n",
        "            if verbose:\n",
        "                print(\"<Initialization {}>\".format(i+1))\n",
        "\n",
        "            while True:\n",
        "\n",
        "                mu = self._shift_center_mean(X, r)\n",
        "                r = self.label_cluster(X, mu)\n",
        "\n",
        "                iter_ += 1\n",
        "                center = self._shift_center_mean(X, r)\n",
        "\n",
        "                # 学習過程の出力\n",
        "                if verbose:\n",
        "                    print(\"Iteration {} mean/center diff: {:.4f}\".format(iter_, np.sum(np.abs(mu - center))))\n",
        "\n",
        "                # ループ解除式\n",
        "                if iter_ == self.max_iter:\n",
        "                    break\n",
        "                if np.sum(np.abs(mu - center)) <= self.tol:\n",
        "                    break\n",
        "\n",
        "            new_sse = 1/(1+SSE(X, mu, r))\n",
        "\n",
        "            if new_sse > sse:\n",
        "                self.mu = mu\n",
        "                sse = new_sse\n",
        "\n",
        "            if verbose:\n",
        "                print(\"----SSE {:.4f} after {} iterations\".format(1/new_sse-1, iter_))\n",
        "                clusters_plot(X, mu, r)\n",
        "                \n",
        "        if verbose:\n",
        "            print(\"\\n\")\n",
        "            print(\"Optimal SSE: {:.4f}\".format(SSE(X, self.mu, self.predict(X))))\n",
        "            print(\"Optimal Mu: {}\".format(self.mu))\n",
        "        \n",
        "        \n",
        "        if return_sse:\n",
        "            return self.mu, SSE(X, self.mu, self.predict(X))\n",
        "        else:\n",
        "            return self.mu\n",
        "    \n",
        "    \n",
        "    def predict(self, X):\n",
        "        \"\"\"\n",
        "        *Objective*\n",
        "\n",
        "        Parameters\n",
        "        ----------\n",
        "\n",
        "        Returns\n",
        "        -------\n",
        "        \"\"\"\n",
        "        r = np.empty(len(X))\n",
        "\n",
        "        for n in range(len(X)):\n",
        "            dist = LA.norm((X[n] - self.mu), axis=1)\n",
        "            label = np.argmin(dist)\n",
        "            r[n] = label\n",
        "\n",
        "        return r\n",
        "\n",
        "    \n",
        "def SSE(X, mu, r):\n",
        "    \"\"\"\n",
        "    *Objective*\n",
        "\n",
        "    Parameters\n",
        "    ----------\n",
        "\n",
        "    Returns\n",
        "    -------\n",
        "    \"\"\"\n",
        "    k = len(np.unique(r))\n",
        "    SSE = 0\n",
        "\n",
        "    for k in range(k):\n",
        "\n",
        "        # rクラスの判定\n",
        "        r_nk = np.where(r == k, 1, 0)\n",
        "        # ユークリッド距離を計算\n",
        "        dist = LA.norm((X - mu[k]), axis=1)\n",
        "\n",
        "        # ユークリッド距離とクラス判定を掛け合わせ、合計を計算\n",
        "        SSE += np.sum(r_nk * dist**2)\n",
        "\n",
        "    return SSE"
      ],
      "execution_count": 3,
      "outputs": []
    },
    {
      "cell_type": "markdown",
      "metadata": {
        "id": "hzXdAKCAbE7m"
      },
      "source": [
        "### 人口データセット"
      ]
    },
    {
      "cell_type": "code",
      "metadata": {
        "id": "LPlwNI9nbE7n"
      },
      "source": [
        "from sklearn.datasets import make_blobs\n",
        "X, _ = make_blobs(n_samples=100, n_features=2, centers=4, cluster_std=0.5, shuffle=True, random_state=0)"
      ],
      "execution_count": null,
      "outputs": []
    },
    {
      "cell_type": "code",
      "metadata": {
        "id": "kpDyRb6tbE7p",
        "outputId": "7d5f9cf1-e93f-46b0-e574-af37eb062eee"
      },
      "source": [
        "import matplotlib.pyplot as plt\n",
        "plt.scatter(X[:, 0], X[:, 1])\n",
        "plt.show()"
      ],
      "execution_count": null,
      "outputs": [
        {
          "output_type": "display_data",
          "data": {
            "image/png": "[encoded data removed]",
            "text/plain": [
              "<Figure size 432x288 with 1 Axes>"
            ]
          },
          "metadata": {
            "tags": [],
            "needs_background": "light"
          }
        }
      ]
    },
    {
      "cell_type": "markdown",
      "metadata": {
        "id": "Hk-1Y-G3bE7r"
      },
      "source": [
        "## 【問題1】中心点の初期値を決める\n",
        "\n",
        "* 入力されたデータ（特徴量行列X）からK個の中心点の$\\mu_1$から$\\mu_K$の初期値を決めるコードを作成せよ。\n",
        "    * Kは指定したクラスタ数でもあり、ハイパーパラメータとしての固定値kでもある。\n",
        "    * データ点$X_n$の中からランダムにK個選ぶこと。\n",
        "    * 中心点 $\\mu$ の初期値の重要性から鑑み、学習時は複数個の初期値で計算する。\n",
        "\n",
        "\n",
        "\n",
        "1. データからランダムサンプリングしたk個のデータ点をクラスタの重心とする。\n",
        "    * サンプル数のインデックスに対して、kクラス分のランダムな初期ラベルを割り当てる。\n",
        "    * データ点をグルーピングし、クラスタを作成する。\n",
        "        1. 各重心に対し、すべてのデータ点とのユークリッド距離を計算する。\n",
        "        2. 各重心との距離が最小となるデータ点群を、**その重心に帰属するクラスタとする。**\n",
        "2. 「k個のクラスタ毎にデータの平均となる点を求め、新しい重心とする。」\n",
        "    * 「クラスタ毎にデータ点の平均値を求め、そのクラスタの重心とする。」\n",
        "3. 各データ点から見て、距離が最小となる重心のクラスタにそのデータ点を割り当てる。\n",
        "4. ステップ2に戻る。\n",
        "5. 収束条件を満たしたら、終了。\n",
        "6. 初期値を変更しステップ1～7をn回繰り返し、SSEが最小のものを選ぶ。"
      ]
    },
    {
      "cell_type": "code",
      "metadata": {
        "id": "dp4YXDhEbE7s"
      },
      "source": [
        "def mu_init(X, n_clusters, seed=None):\n",
        "    \n",
        "    np.random.seed(seed)\n",
        "    mu = np.random.choice(len(X), n_clusters)\n",
        "    \n",
        "    return X[mu]"
      ],
      "execution_count": 4,
      "outputs": []
    },
    {
      "cell_type": "code",
      "metadata": {
        "id": "nqIjG5EfbE7u",
        "outputId": "0fbc67d5-3673-47a7-edd9-88bfe0eb9f5a",
        "colab": {
          "base_uri": "https://localhost:8080/",
          "height": 102
        }
      },
      "source": [
        "mu = mu_init(X, 5, seed=1)\n",
        "mu"
      ],
      "execution_count": 5,
      "outputs": [
        {
          "output_type": "execute_result",
          "data": {
            "text/plain": [
              "array([[ 1.85367905,  1.5088862 ],\n",
              "       [-1.26789718,  7.25141327],\n",
              "       [ 0.92466065,  4.50908658],\n",
              "       [-1.43284669,  7.71577043],\n",
              "       [ 1.40848818,  3.93270482]])"
            ]
          },
          "metadata": {
            "tags": []
          },
          "execution_count": 5
        }
      ]
    },
    {
      "cell_type": "markdown",
      "metadata": {
        "id": "p3CSzfUEbE7w"
      },
      "source": [
        "## 【問題2】SSEを求める関数の作成"
      ]
    },
    {
      "cell_type": "code",
      "metadata": {
        "id": "VxZSc01XbE7w"
      },
      "source": [
        "def SSE(X, mu, r):\n",
        "    \n",
        "    k = len(np.unique(r))\n",
        "    SSE = 0\n",
        "    \n",
        "    for k in range(k):\n",
        "        \n",
        "        # rクラスの判定\n",
        "        r_nk = np.where(r == k, 1, 0)\n",
        "        # ユークリッド距離を計算\n",
        "        dist = LA.norm((X - mu[k]), axis=1)\n",
        "    \n",
        "        # ユークリッド距離とクラス判定を掛け合わせ、合計を計算\n",
        "        SSE += np.sum(r_nk * dist**2)\n",
        "        \n",
        "    return SSE"
      ],
      "execution_count": 6,
      "outputs": []
    },
    {
      "cell_type": "code",
      "metadata": {
        "id": "MMGrgvoVbqFw",
        "outputId": "ba76fc15-1d07-44db-be09-88a9097afb08",
        "colab": {
          "base_uri": "https://localhost:8080/",
          "height": 34
        }
      },
      "source": [
        "SSE(X, mu, r)"
      ],
      "execution_count": 10,
      "outputs": [
        {
          "output_type": "execute_result",
          "data": {
            "text/plain": [
              "244.41034189535236"
            ]
          },
          "metadata": {
            "tags": []
          },
          "execution_count": 10
        }
      ]
    },
    {
      "cell_type": "markdown",
      "metadata": {
        "id": "D2ndUda4bE7y"
      },
      "source": [
        "## 【問題3】クラスタへの割り当て\n",
        "\n",
        "全てのプロット$X_n$を最も近い中心点 $\\mu_k$に割り当てるコードを作成せよ。\n",
        "\n",
        "1. 事前に選出した中心点以外の座標プロットから順番に一つずつ指定。\n",
        "2. 各中心点から、指定したプロットまでの距離を算出した後、最短距離を選出。\n",
        "    * np.linalg.normのL2ノルムを用いて、ユークリッド距離を算出。\n",
        "3. 以降、次の座標プロットで繰り返す。 "
      ]
    },
    {
      "cell_type": "code",
      "metadata": {
        "id": "vM5oS2fgbE7y"
      },
      "source": [
        "def label_cluster(X, mu):\n",
        "    \n",
        "    r = np.empty(len(X))\n",
        "    \n",
        "    for n in range(len(X)):\n",
        "        dist = LA.norm((X[n] - mu), axis=1)\n",
        "        label = np.argmin(dist)\n",
        "        r[n] = label\n",
        "        \n",
        "    return r"
      ],
      "execution_count": 8,
      "outputs": []
    },
    {
      "cell_type": "code",
      "metadata": {
        "id": "pCY0CQK_bE70",
        "outputId": "0785ee5d-7f55-4281-f78c-3b047849c467",
        "colab": {
          "base_uri": "https://localhost:8080/",
          "height": 119
        }
      },
      "source": [
        "mu = mu_init(X, 5, seed=1)\n",
        "r = label_cluster(X, mu)\n",
        "r"
      ],
      "execution_count": 9,
      "outputs": [
        {
          "output_type": "execute_result",
          "data": {
            "text/plain": [
              "array([4., 3., 4., 2., 2., 2., 2., 3., 2., 3., 1., 1., 1., 3., 1., 0., 0.,\n",
              "       2., 2., 0., 4., 3., 2., 0., 2., 2., 2., 2., 0., 0., 0., 1., 0., 0.,\n",
              "       2., 4., 3., 0., 3., 2., 2., 2., 1., 2., 2., 3., 0., 2., 2., 4., 2.,\n",
              "       0., 2., 2., 4., 1., 3., 0., 0., 3., 1., 0., 0., 2., 0., 3., 2., 2.,\n",
              "       0., 2., 3., 0., 2., 3., 2., 4., 2., 2., 0., 0., 0., 3., 2., 2., 0.,\n",
              "       2., 0., 0., 4., 2., 2., 2., 4., 2., 2., 3., 3., 2., 3., 2.])"
            ]
          },
          "metadata": {
            "tags": []
          },
          "execution_count": 9
        }
      ]
    },
    {
      "cell_type": "markdown",
      "metadata": {
        "id": "hHduv8uzcAjI"
      },
      "source": [
        "## 【問題4】中心点の移動"
      ]
    },
    {
      "cell_type": "code",
      "metadata": {
        "id": "Y7VSb9PUcADF"
      },
      "source": [
        "def shift_center_mean(X, r):\n",
        "    \n",
        "    k = len(np.unique(r))\n",
        "\n",
        "    mu = np.empty((k, len(X[0])))\n",
        "    \n",
        "    for i in range(k):\n",
        "        batch = X[np.where(r == i)]\n",
        "        mu[i] = np.mean(batch, axis=0)\n",
        "        \n",
        "    return mu"
      ],
      "execution_count": 12,
      "outputs": []
    },
    {
      "cell_type": "code",
      "metadata": {
        "id": "UVl0VveTbE73",
        "outputId": "d29dc93f-b624-424e-d3d7-b21e3a1ed652",
        "colab": {
          "base_uri": "https://localhost:8080/",
          "height": 102
        }
      },
      "source": [
        "shift_center_mean(X, r)"
      ],
      "execution_count": 13,
      "outputs": [
        {
          "output_type": "execute_result",
          "data": {
            "text/plain": [
              "array([[ 1.99186903,  0.96561071],\n",
              "       [-1.24445846,  7.15300444],\n",
              "       [-0.54423167,  3.7340911 ],\n",
              "       [-1.27925091,  8.0512077 ],\n",
              "       [ 0.9415767 ,  3.66115967]])"
            ]
          },
          "metadata": {
            "tags": []
          },
          "execution_count": 13
        }
      ]
    },
    {
      "cell_type": "markdown",
      "metadata": {
        "id": "v7BwyYC7cIwd"
      },
      "source": [
        "## 【問題5】繰り返し"
      ]
    },
    {
      "cell_type": "code",
      "metadata": {
        "id": "OOIN5QaYbE75"
      },
      "source": [
        "def fit(X, n_clusters, tol=0, max_iter=None, verbose=None):\n",
        "    \"\"\"\n",
        "    K-meansによるクラスタリングを計算\n",
        "    Parameters\n",
        "    ----------\n",
        "    X : 次の形のndarray, shape (n_samples, n_features)\n",
        "        訓練データの特徴量\n",
        "    \"\"\"\n",
        "    \n",
        "    mu = mu_init(X, n_clusters)\n",
        "    r = label_cluster(X, mu)\n",
        "    iter_ = 0\n",
        "    \n",
        "    while True:\n",
        "        \n",
        "        mu = shift_center_mean(X, r)\n",
        "        r = label_cluster(X, mu)\n",
        "        \n",
        "        iter_ += 1\n",
        "        center = shift_center_mean(X, r)\n",
        "        \n",
        "        # 学習過程の出力\n",
        "        if verbose:\n",
        "            print(\"Iteration {} mean/center diff: {:.4f}\".format(iter_, np.sum(np.abs(mu - center))))\n",
        "            print(\"Iteration {} SSE: {:.4f}\".format(iter_, SSE(X, mu, r)))\n",
        "        \n",
        "        # ループ解除式\n",
        "        if iter_ == max_iter:\n",
        "            break\n",
        "        if np.sum(np.abs(mu - center)) <= tol:\n",
        "            break\n",
        "    \n",
        "    return r"
      ],
      "execution_count": 14,
      "outputs": []
    },
    {
      "cell_type": "code",
      "metadata": {
        "id": "QzCLnQ9jbE77",
        "outputId": "2c349627-4a40-40e4-dc61-7ceed6fe70bc",
        "colab": {
          "base_uri": "https://localhost:8080/",
          "height": 289
        }
      },
      "source": [
        "fit(X, 5, verbose=True)"
      ],
      "execution_count": 15,
      "outputs": [
        {
          "output_type": "stream",
          "text": [
            "Iteration 1 mean/center diff: nan\n",
            "Iteration 1 SSE: 0.0000\n",
            "Iteration 2 mean/center diff: nan\n",
            "Iteration 2 SSE: nan\n",
            "Iteration 3 mean/center diff: 0.0000\n",
            "Iteration 3 SSE: 870.2612\n"
          ],
          "name": "stdout"
        },
        {
          "output_type": "stream",
          "text": [
            "/usr/local/lib/python3.6/dist-packages/numpy/core/fromnumeric.py:3335: RuntimeWarning: Mean of empty slice.\n",
            "  out=out, **kwargs)\n",
            "/usr/local/lib/python3.6/dist-packages/numpy/core/_methods.py:154: RuntimeWarning: invalid value encountered in true_divide\n",
            "  ret, rcount, out=ret, casting='unsafe', subok=False)\n"
          ],
          "name": "stderr"
        },
        {
          "output_type": "execute_result",
          "data": {
            "text/plain": [
              "array([0., 0., 0., 0., 0., 0., 0., 0., 0., 0., 0., 0., 0., 0., 0., 0., 0.,\n",
              "       0., 0., 0., 0., 0., 0., 0., 0., 0., 0., 0., 0., 0., 0., 0., 0., 0.,\n",
              "       0., 0., 0., 0., 0., 0., 0., 0., 0., 0., 0., 0., 0., 0., 0., 0., 0.,\n",
              "       0., 0., 0., 0., 0., 0., 0., 0., 0., 0., 0., 0., 0., 0., 0., 0., 0.,\n",
              "       0., 0., 0., 0., 0., 0., 0., 0., 0., 0., 0., 0., 0., 0., 0., 0., 0.,\n",
              "       0., 0., 0., 0., 0., 0., 0., 0., 0., 0., 0., 0., 0., 0., 0.])"
            ]
          },
          "metadata": {
            "tags": []
          },
          "execution_count": 15
        }
      ]
    },
    {
      "cell_type": "markdown",
      "metadata": {
        "id": "5YwXEjdjcTqz"
      },
      "source": [
        "## 【問題6】異なる初期値で計算"
      ]
    },
    {
      "cell_type": "code",
      "metadata": {
        "id": "WOR7jkEEcPst"
      },
      "source": [
        "def fit(X, n_clusters, n_init, tol=0, max_iter=None, verbose=None):\n",
        "    \"\"\"\n",
        "    K-meansによるクラスタリングを計算\n",
        "    Parameters\n",
        "    ----------\n",
        "    X : 次の形のndarray, shape (n_samples, n_features)\n",
        "        訓練データの特徴量\n",
        "    \"\"\"\n",
        "    \n",
        "    sse = 0\n",
        "    \n",
        "    for i in range(n_init):\n",
        "    \n",
        "        mu = mu_init(X, n_clusters)\n",
        "        r = label_cluster(X, mu)\n",
        "        iter_ = 0\n",
        "        \n",
        "        if verbose:\n",
        "            print(\"<Initialization {}>\".format(i+1))\n",
        "\n",
        "        while True:\n",
        "\n",
        "            mu = shift_center_mean(X, r)\n",
        "            r = label_cluster(X, mu)\n",
        "\n",
        "            iter_ += 1\n",
        "            center = shift_center_mean(X, r)\n",
        "\n",
        "            # 学習過程の出力\n",
        "            if verbose:\n",
        "                print(\"Iteration {} mean/center diff: {:.4f}\".format(iter_, np.sum(np.abs(mu - center))))\n",
        "\n",
        "            # ループ解除式\n",
        "            if iter_ == max_iter:\n",
        "                break\n",
        "            if np.sum(np.abs(mu - center)) <= tol:\n",
        "                break\n",
        "            \n",
        "        new_sse = 1/(1+SSE(X, mu, r))\n",
        "        \n",
        "        if new_sse > sse:\n",
        "            mu_opt = mu\n",
        "            sse = new_sse\n",
        "        \n",
        "        if verbose:\n",
        "            print(\"----SSE {:.4f} after {} iterations\".format(1/new_sse-1, iter_))\n",
        "    return mu_opt"
      ],
      "execution_count": 16,
      "outputs": []
    },
    {
      "cell_type": "code",
      "metadata": {
        "id": "Zr1xjMamca7j",
        "outputId": "dbe9b344-73a5-4143-9f8a-7660fcd9c89c",
        "colab": {
          "base_uri": "https://localhost:8080/",
          "height": 1000
        }
      },
      "source": [
        "mu = fit(X, 5, 10, verbose=True)"
      ],
      "execution_count": 17,
      "outputs": [
        {
          "output_type": "stream",
          "text": [
            "<Initialization 1>\n",
            "Iteration 1 mean/center diff: 1.8464\n",
            "Iteration 2 mean/center diff: 0.7260\n",
            "Iteration 3 mean/center diff: 0.1653\n",
            "Iteration 4 mean/center diff: 0.0000\n",
            "----SSE 43.8477 after 4 iterations\n",
            "<Initialization 2>\n",
            "Iteration 1 mean/center diff: 1.5699\n",
            "Iteration 2 mean/center diff: 1.3932\n",
            "Iteration 3 mean/center diff: 2.2103\n",
            "Iteration 4 mean/center diff: 1.2907\n",
            "Iteration 5 mean/center diff: 0.1596\n",
            "Iteration 6 mean/center diff: 0.1997\n",
            "Iteration 7 mean/center diff: 0.4156\n",
            "Iteration 8 mean/center diff: 0.6316\n",
            "Iteration 9 mean/center diff: 1.8861\n",
            "Iteration 10 mean/center diff: 1.9057\n",
            "Iteration 11 mean/center diff: 0.7625\n",
            "Iteration 12 mean/center diff: 0.1674\n",
            "Iteration 13 mean/center diff: 0.0000\n",
            "----SSE 43.6488 after 13 iterations\n",
            "<Initialization 3>\n",
            "Iteration 1 mean/center diff: 4.2919\n",
            "Iteration 2 mean/center diff: 0.8424\n",
            "Iteration 3 mean/center diff: 0.1270\n",
            "Iteration 4 mean/center diff: 0.0000\n",
            "----SSE 43.6488 after 4 iterations\n",
            "<Initialization 4>\n",
            "Iteration 1 mean/center diff: 2.2389\n",
            "Iteration 2 mean/center diff: 0.1674\n",
            "Iteration 3 mean/center diff: 0.0000\n",
            "----SSE 44.5242 after 3 iterations\n",
            "<Initialization 5>\n",
            "Iteration 1 mean/center diff: 0.0000\n",
            "----SSE 43.3056 after 1 iterations\n",
            "<Initialization 6>\n",
            "Iteration 1 mean/center diff: 0.1674\n",
            "Iteration 2 mean/center diff: 0.0000\n",
            "----SSE 44.3172 after 2 iterations\n",
            "<Initialization 7>\n",
            "Iteration 1 mean/center diff: 2.9209\n",
            "Iteration 2 mean/center diff: 0.3960\n",
            "Iteration 3 mean/center diff: 0.1270\n",
            "Iteration 4 mean/center diff: 0.0000\n",
            "----SSE 43.6488 after 4 iterations\n",
            "<Initialization 8>\n",
            "Iteration 1 mean/center diff: 4.1917\n",
            "Iteration 2 mean/center diff: 0.3393\n",
            "Iteration 3 mean/center diff: 0.0000\n",
            "----SSE 44.1584 after 3 iterations\n",
            "<Initialization 9>\n",
            "Iteration 1 mean/center diff: 2.3981\n",
            "Iteration 2 mean/center diff: 0.8085\n",
            "Iteration 3 mean/center diff: 0.1366\n",
            "Iteration 4 mean/center diff: 0.0999\n",
            "Iteration 5 mean/center diff: 0.1350\n",
            "Iteration 6 mean/center diff: 0.0000\n",
            "----SSE 44.4212 after 6 iterations\n",
            "<Initialization 10>\n",
            "Iteration 1 mean/center diff: 0.4795\n",
            "Iteration 2 mean/center diff: 0.1500\n",
            "Iteration 3 mean/center diff: 0.0000\n",
            "----SSE 44.2879 after 3 iterations\n"
          ],
          "name": "stdout"
        }
      ]
    },
    {
      "cell_type": "markdown",
      "metadata": {
        "id": "DKtR9KrkcfWT"
      },
      "source": [
        "## 【問題7】推定"
      ]
    },
    {
      "cell_type": "code",
      "metadata": {
        "id": "T_h1vDHHcgbT"
      },
      "source": [
        "def predict(X, mu):\n",
        "    \n",
        "    r = np.empty(len(X))\n",
        "    \n",
        "    for n in range(len(X)):\n",
        "        dist = LA.norm((X[n] - mu), axis=1)\n",
        "        label = np.argmin(dist)\n",
        "        r[n] = label\n",
        "        \n",
        "    return r"
      ],
      "execution_count": 18,
      "outputs": []
    },
    {
      "cell_type": "code",
      "metadata": {
        "id": "aL0uUC2ucjYP",
        "outputId": "c20c1980-66a7-4532-a902-d4ab0a27eab7",
        "colab": {
          "base_uri": "https://localhost:8080/",
          "height": 119
        }
      },
      "source": [
        "r = predict(X, mu)\n",
        "r"
      ],
      "execution_count": 19,
      "outputs": [
        {
          "output_type": "execute_result",
          "data": {
            "text/plain": [
              "array([1., 3., 4., 4., 4., 4., 2., 3., 1., 3., 3., 3., 3., 3., 3., 0., 0.,\n",
              "       1., 2., 0., 4., 3., 2., 0., 4., 2., 1., 4., 0., 0., 0., 3., 0., 0.,\n",
              "       2., 4., 3., 0., 3., 2., 4., 2., 3., 2., 2., 3., 0., 2., 4., 1., 1.,\n",
              "       0., 2., 2., 2., 3., 3., 0., 0., 3., 3., 0., 0., 4., 0., 3., 2., 2.,\n",
              "       0., 4., 3., 0., 4., 3., 4., 4., 1., 2., 0., 0., 0., 3., 2., 1., 0.,\n",
              "       2., 0., 0., 4., 4., 4., 2., 1., 2., 2., 3., 3., 2., 3., 1.])"
            ]
          },
          "metadata": {
            "tags": []
          },
          "execution_count": 19
        }
      ]
    },
    {
      "cell_type": "code",
      "metadata": {
        "id": "BE4jWHl9clVZ"
      },
      "source": [
        "def clusters_plot(X, mu, r, ax=None):\n",
        "    \n",
        "    if ax:\n",
        "        ax.set_title(\"KMeans Plot\")\n",
        "        ax.set_xlabel(\"x_1\")\n",
        "        ax.set_ylabel(\"x_2\")\n",
        "\n",
        "        for i in np.unique(r):\n",
        "            ax.scatter(X[r == i, 0], X[r == i, 1])\n",
        "\n",
        "        ax.scatter(mu[:, 0], mu[:, 1], marker='*', c='black', s=50, label='$\\mu_k$')\n",
        "\n",
        "        ax.legend()\n",
        "    \n",
        "    else:\n",
        "        plt.title(\"KMeans Plot\")\n",
        "        plt.xlabel(\"x_1\")\n",
        "        plt.ylabel(\"x_2\")\n",
        "\n",
        "        for i in np.unique(r):\n",
        "            plt.scatter(X[r == i, 0], X[r == i, 1])\n",
        "\n",
        "        plt.scatter(mu[:, 0], mu[:, 1], marker='*', c='black', s=50, label='$\\mu_k$')\n",
        "\n",
        "        plt.legend()\n",
        "        plt.show()"
      ],
      "execution_count": 20,
      "outputs": []
    },
    {
      "cell_type": "code",
      "metadata": {
        "id": "rDNbVJgqcoRZ",
        "outputId": "bd57308a-89ee-465c-d1fc-050ce1784be0",
        "colab": {
          "base_uri": "https://localhost:8080/",
          "height": 1000
        }
      },
      "source": [
        "%matplotlib inline\n",
        "\n",
        "scratch_kmeans = ScratchKMeans(5, 5)\n",
        "scratch_kmeans.fit(X, verbose=True)"
      ],
      "execution_count": 21,
      "outputs": [
        {
          "output_type": "stream",
          "text": [
            "<Initialization 1>\n",
            "Iteration 1 mean/center diff: 0.6719\n",
            "Iteration 2 mean/center diff: 0.3421\n",
            "Iteration 3 mean/center diff: 0.2525\n",
            "Iteration 4 mean/center diff: 0.1270\n",
            "Iteration 5 mean/center diff: 0.0000\n",
            "----SSE 43.6488 after 5 iterations\n"
          ],
          "name": "stdout"
        },
        {
          "output_type": "display_data",
          "data": {
            "image/png": "[encoded data removed]",
            "text/plain": [
              "<Figure size 432x288 with 1 Axes>"
            ]
          },
          "metadata": {
            "tags": [],
            "needs_background": "light"
          }
        },
        {
          "output_type": "stream",
          "text": [
            "<Initialization 2>\n",
            "Iteration 1 mean/center diff: 0.4262\n",
            "Iteration 2 mean/center diff: 0.0000\n",
            "----SSE 48.6338 after 2 iterations\n"
          ],
          "name": "stdout"
        },
        {
          "output_type": "display_data",
          "data": {
            "image/png": "[encoded data removed]",
            "text/plain": [
              "<Figure size 432x288 with 1 Axes>"
            ]
          },
          "metadata": {
            "tags": [],
            "needs_background": "light"
          }
        },
        {
          "output_type": "stream",
          "text": [
            "<Initialization 3>\n",
            "Iteration 1 mean/center diff: 0.0000\n",
            "----SSE 43.5113 after 1 iterations\n"
          ],
          "name": "stdout"
        },
        {
          "output_type": "display_data",
          "data": {
            "image/png": "[encoded data removed]",
            "text/plain": [
              "<Figure size 432x288 with 1 Axes>"
            ]
          },
          "metadata": {
            "tags": [],
            "needs_background": "light"
          }
        },
        {
          "output_type": "stream",
          "text": [
            "<Initialization 4>\n",
            "Iteration 1 mean/center diff: 0.8073\n",
            "Iteration 2 mean/center diff: 0.5498\n",
            "Iteration 3 mean/center diff: 0.2296\n",
            "Iteration 4 mean/center diff: 0.3605\n",
            "Iteration 5 mean/center diff: 0.3440\n",
            "Iteration 6 mean/center diff: 0.1208\n",
            "Iteration 7 mean/center diff: 0.0000\n",
            "----SSE 44.3316 after 7 iterations\n"
          ],
          "name": "stdout"
        },
        {
          "output_type": "display_data",
          "data": {
            "image/png": "[encoded data removed]",
            "text/plain": [
              "<Figure size 432x288 with 1 Axes>"
            ]
          },
          "metadata": {
            "tags": [],
            "needs_background": "light"
          }
        },
        {
          "output_type": "stream",
          "text": [
            "<Initialization 5>\n",
            "Iteration 1 mean/center diff: 0.2888\n",
            "Iteration 2 mean/center diff: 0.2522\n",
            "Iteration 3 mean/center diff: 0.0000\n",
            "----SSE 44.1281 after 3 iterations\n"
          ],
          "name": "stdout"
        },
        {
          "output_type": "display_data",
          "data": {
            "image/png": "[encoded data removed]",
            "text/plain": [
              "<Figure size 432x288 with 1 Axes>"
            ]
          },
          "metadata": {
            "tags": [],
            "needs_background": "light"
          }
        },
        {
          "output_type": "stream",
          "text": [
            "\n",
            "\n",
            "Optimal SSE: 43.5113\n",
            "Optimal Mu: [[ 1.82279289  1.49358843]\n",
            " [ 2.10458645  0.61362557]\n",
            " [ 0.92578447  4.32475792]\n",
            " [-1.26811733  7.76378266]\n",
            " [-1.47935679  3.11716896]]\n"
          ],
          "name": "stdout"
        },
        {
          "output_type": "execute_result",
          "data": {
            "text/plain": [
              "array([[ 1.82279289,  1.49358843],\n",
              "       [ 2.10458645,  0.61362557],\n",
              "       [ 0.92578447,  4.32475792],\n",
              "       [-1.26811733,  7.76378266],\n",
              "       [-1.47935679,  3.11716896]])"
            ]
          },
          "metadata": {
            "tags": []
          },
          "execution_count": 21
        }
      ]
    },
    {
      "cell_type": "markdown",
      "metadata": {
        "id": "4PlriuPdcrSx"
      },
      "source": [
        "## 【問題8】エルボー法の実装¶"
      ]
    },
    {
      "cell_type": "code",
      "metadata": {
        "id": "4Q2tmSDVcs7B"
      },
      "source": [
        "def elbow_plot(X, max_clusters, n_init=5):\n",
        "\n",
        "    x_values = np.arange(2, max_clusters)\n",
        "    y_values = np.zeros(len(x_values))\n",
        "\n",
        "    for i, n_clusters in enumerate(x_values):\n",
        "        _, sse = ScratchKMeans(n_clusters, n_init).fit(X, return_sse=True)\n",
        "        y_values[i] = sse\n",
        "\n",
        "    plt.plot(x_values, y_values)\n",
        "    plt.scatter(x_values, y_values)\n",
        "    plt.title(\"Elbow Chart\")\n",
        "    plt.xlabel(\"n_clusters\")\n",
        "    plt.ylabel(\"SSE\")\n",
        "    plt.show()"
      ],
      "execution_count": 22,
      "outputs": []
    },
    {
      "cell_type": "code",
      "metadata": {
        "id": "TwbhKpu2cwTD",
        "outputId": "45a77472-e749-4421-e59d-80df6c938348",
        "colab": {
          "base_uri": "https://localhost:8080/",
          "height": 364
        }
      },
      "source": [
        "elbow_plot(X, 15)"
      ],
      "execution_count": 23,
      "outputs": [
        {
          "output_type": "stream",
          "text": [
            "/usr/local/lib/python3.6/dist-packages/numpy/core/fromnumeric.py:3335: RuntimeWarning: Mean of empty slice.\n",
            "  out=out, **kwargs)\n",
            "/usr/local/lib/python3.6/dist-packages/numpy/core/_methods.py:154: RuntimeWarning: invalid value encountered in true_divide\n",
            "  ret, rcount, out=ret, casting='unsafe', subok=False)\n"
          ],
          "name": "stderr"
        },
        {
          "output_type": "display_data",
          "data": {
            "image/png": "[encoded data removed]",
            "text/plain": [
              "<Figure size 432x288 with 1 Axes>"
            ]
          },
          "metadata": {
            "tags": [],
            "needs_background": "light"
          }
        }
      ]
    }
  ]
}